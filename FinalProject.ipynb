{
 "cells": [
  {
   "cell_type": "markdown",
   "metadata": {},
   "source": [
    "## Question and Hypothesis \n",
    "https://www.legalsportsreport.com/13243/ny-daily-fantasy-sports/\n",
    "\n",
    "Every since monetary transactions in fantasy sports were legalized by New York in August of 2017, daily fantasy sports have generated approximately 335 million dollars per year. From the Fantasy Sports and Gaming Association’s (FSGA) 2019 survey, we learned that 50% of players were between the ages of 18 and 34, 64% were employed full time and 47% of players earn salaries of over \\\\$75,000 a year. Due to the attraction of the user base, our team statsketball decided to take a look into this fairly new industry allowing sports fan to place monetary bets. Our project explores the dataset we scraped below to predict the amount of FanDuel points NBA players will earn on a given night.  The question we want to answer is how well will a player perform on any given night based on their previous statistics.  We expect that players that perform better over the last couple of games will continue to do so, and we will evaluate this hypothesis by predicting the FanDuel points they will score based on the player and respective team's average statistics over the last 5 to 10 games.\n",
    "\n",
    "### Ethical Concerns\n",
    "There are ethical concerns regarding daily fantasy sports, in our case being FanDuel. The concept of daily fantasy sports can be seen as a method of gambling depending on the state involved. There are some that believe that the daily fantasy sports is more skill based on the user’s own knowledge on teams and players rather than a game of chance. \n",
    "\n",
    "In regards to the data, there may be ethical concerns based on where data is scraped from. Some websites may have regulations again scraping data from their website. In these cases, websites will provide a file “robots.txt” with their regulations on scraping from their website.\n",
    "\n",
    "### Background and Data\n",
    "\n",
    "We retrieved our dataset from NBA.com, which was publicly available. The data covers box scores that range from 2016 to 2019. This data set contains player boxscores (2016-2019 season), field goal percentage, fantasy points scored, player usage,  minutes played, as well as many other criteria for determining how many points a player will earn. FanDuel points are calclulated via the following formula: 1 * Points + 1.2 * Rebounds + 1.5 * Assists + 3 * (Blocks + Steals) - 1 * Turnovers. FanDuel works by giving you a $60,000 salary cap, which you spend on 9 different players: 2 Point Guards, 2 Shooting Guards, 2 Small Forwards, 2 Power Forwards, and 1 Center. Each player is given a salary, usually ranging from 3500 to 13000 based on how well they are predicted to perform. \n",
    "\n",
    "By predicting FanDuel points, we will be able to make optimal lineups for any given night, as well as predict the overall performance of a player using FanDuel points as our performance metric.\n",
    " \n",
    "\n",
    "We can view a player’s performance on a night to night basis. This provides insights and confidence when FanDuel users select which players they want on their rosters.\n",
    "\n",
    "Data from NBA: https://stats.nba.com/players/boxscores/?Season=2018-19&SeasonType=Regular%20Season\n",
    "\n",
    "Data from rotoguru1: http://rotoguru1.com/cgi-bin/hyday.pl?game=fd&mon=10&day=25&year=2016\n",
    "\n",
    "**Data Cleaning and Processing**"
   ]
  },
  {
   "cell_type": "code",
   "execution_count": 2,
   "metadata": {},
   "outputs": [],
   "source": [
    "from selenium import webdriver\n",
    "import json\n",
    "import os.path\n",
    "from bs4 import BeautifulSoup\n",
    "import numpy as np\n",
    "import pandas as pd\n",
    "import time\n",
    "import shutil\n",
    "import re"
   ]
  },
  {
   "cell_type": "code",
   "execution_count": 3,
   "metadata": {},
   "outputs": [],
   "source": [
    "from sklearn.model_selection import train_test_split\n",
    "from sklearn.ensemble import RandomForestClassifier\n",
    "from sklearn.linear_model import LogisticRegression\n",
    "from sklearn.linear_model import LinearRegression\n",
    "from sklearn.preprocessing import StandardScaler\n",
    "from sklearn.svm import SVR\n",
    "from sklearn.neural_network import MLPRegressor"
   ]
  },
  {
   "cell_type": "code",
   "execution_count": 3,
   "metadata": {},
   "outputs": [],
   "source": [
    "# Download chrome webdriver here: https://chromedriver.storage.googleapis.com/index.html?path=79.0.3945.36/\n",
    "\n",
    "driver = webdriver.Chrome('/Users/jordanlevy/Downloads/chromedriver') # change to your path for chromedriver\n",
    "script_dir = '/Users/jordanlevy/Documents/GitHub/group078' # change to your script directory path"
   ]
  },
  {
   "cell_type": "code",
   "execution_count": 4,
   "metadata": {},
   "outputs": [],
   "source": [
    "def dates_scraper(st_yr, end_yr):\n",
    "    total_dates = pd.Series()\n",
    "    for curr_yr in range(st_yr, end_yr+1):\n",
    "        url = 'https://en.wikipedia.org/wiki/20{}-{}_NBA_season'.format(curr_yr, curr_yr+1)\n",
    "        driver.get(url)\n",
    "        yr_finder = driver.find_element_by_xpath('/html/body/div[3]/div[3]/div[4]/div/table[1]/tbody/tr[4]/td')\n",
    "        reg_season = yr_finder.text.split('\\n')[0]\n",
    "        range_reg_season = reg_season.split(' – ')\n",
    "        start_date = range_reg_season[0]\n",
    "        end_date = range_reg_season[1]\n",
    "        daterange = pd.Series(pd.date_range(start_date, end_date))\n",
    "        total_dates = total_dates.append(daterange)\n",
    "    return total_dates.reset_index(drop=True)"
   ]
  },
  {
   "cell_type": "code",
   "execution_count": 5,
   "metadata": {},
   "outputs": [],
   "source": [
    "def download_roto_file(date):\n",
    "    '''Downloads html file at the given url, which is rotoguru1.com with the corresponding month, day, and year\n",
    "    from which to scrape data from. After writing all these webpages to a local html file, we will scrape the\n",
    "    information needed and store it in a .csv file.  Takes about 21 minutes to scrape 3 seasons worth of data.'''\n",
    "    url = 'http://rotoguru1.com/cgi-bin/hyday.pl?game=fd&mon={}&day={}&year={}'.format(date.month, date.day, date.year)\n",
    "    driver.get(url)\n",
    "    print('Got url:',str(date)[:10])\n",
    "    \n",
    "    soup = BeautifulSoup(driver.page_source, 'html5lib')\n",
    "\n",
    "    json = soup.findAll('table')\n",
    "    data = json[9]\n",
    "\n",
    "    date_str = str(date)[:10]\n",
    "    local_filename = 'A2_data/Roto_Data/Roto_html/roto_data_{}.html'.format(date_str)\n",
    "    with open(local_filename, 'w') as f:\n",
    "\n",
    "        for row in data:\n",
    "            #print(row)\n",
    "\n",
    "            f.write(str(row))"
   ]
  },
  {
   "cell_type": "code",
   "execution_count": 7,
   "metadata": {},
   "outputs": [],
   "source": [
    "def scrape_roto_data(date):\n",
    "    '''After writing all webpages from rotoguru1.com into local .html files, this function scrapes and cleans useful\n",
    "    information from the file using Beautiful Soup, namely the player name, date, minutes played, and salary for that\n",
    "    date.  Once done extracting information from one date, writes to a .csv file from a Pandas dataframe for later\n",
    "    access.'''\n",
    "    date_str = str(date)[:10]\n",
    "\n",
    "    local_filename = 'A2_data/Roto_Data/Roto_html/roto_data_{}.html'.format(date_str)\n",
    "    data= BeautifulSoup(open(local_filename))#,'html.parser')\n",
    "    \n",
    "    trs = data.findAll('tr')\n",
    "    if len(trs) == 0:\n",
    "        return None\n",
    "    tds = [tr.findAll('td') for tr in trs]\n",
    "    player_data = [tr.text for tr in trs]\n",
    "    pattern = '[A-Za-z]+, [A-Za-z]+'\n",
    "    prog = re.compile(pattern)\n",
    "    player_data_alt = [player[2:] if player[0] != 'C' else player[1:] for player in player_data]\n",
    "    player_names = [re.search(pattern, player.replace('.','')).group(0).strip(' ') for player in player_data_alt if re.search(pattern, player.replace('.',''))]\n",
    "    td_data = [pd.Series(td).apply(lambda x: x.text) for td in tds if len(td) ==9]\n",
    "    player_df = pd.DataFrame(td_data)#.apply(lambda x: x.apply(lambda y: y.text))\n",
    "    player_df['LastName, FirstName'] = player_names\n",
    "    player_data_df = player_df.drop([1],axis=1)\n",
    "    cols = ['Position', 'FD PTS', 'Salary', 'Team', 'Opp Team', 'Score', 'Min', 'Statline', 'LastName, FirstName']\n",
    "    player_data_df.columns = cols\n",
    "    \n",
    "    player_data_df['Date'] = [date_str for _ in range(len(player_data_df['Position']))]\n",
    "    new_cols = ['Date', 'Position', 'LastName, FirstName', 'FD PTS', 'Salary', 'Team', 'Opp Team', 'Score', 'Min', 'Statline']\n",
    "    player_data_df = player_data_df[new_cols]\n",
    "    player_data_df['Salary'] = player_data_df['Salary'].str.strip('$')\n",
    "    player_data_df['Min'] = player_data_df['Min'].str.replace('DNP','0').replace('NA','0')\n",
    "    player_data_df.to_csv('A2_data/Roto_Data/Roto_csv/roto_data_{}.csv'.format(date_str), index=False)\n",
    "    "
   ]
  },
  {
   "cell_type": "code",
   "execution_count": 8,
   "metadata": {},
   "outputs": [
    {
     "name": "stdout",
     "output_type": "stream",
     "text": [
      "CPU times: user 20.6 ms, sys: 15.9 ms, total: 36.6 ms\n",
      "Wall time: 4.57 s\n"
     ]
    }
   ],
   "source": [
    "%%time\n",
    "total_dates = dates_scraper(16, 18) # Scrapes start and end dates of regular season from 16-17 to 18-19 NBA Seasons"
   ]
  },
  {
   "cell_type": "code",
   "execution_count": 9,
   "metadata": {},
   "outputs": [
    {
     "data": {
      "text/plain": [
       "524"
      ]
     },
     "execution_count": 9,
     "metadata": {},
     "output_type": "execute_result"
    }
   ],
   "source": [
    "len(total_dates)"
   ]
  },
  {
   "cell_type": "markdown",
   "metadata": {},
   "source": [
    "Download all rotoguru webpages that are in the range of dates.  In our case this is every date from the 16-17 to 18-19\n",
    "NBA Seasons."
   ]
  },
  {
   "cell_type": "code",
   "execution_count": 10,
   "metadata": {
    "scrolled": true
   },
   "outputs": [
    {
     "name": "stdout",
     "output_type": "stream",
     "text": [
      "Got url: 2016-10-25\n"
     ]
    },
    {
     "name": "stderr",
     "output_type": "stream",
     "text": [
      "ERROR:root:Internal Python error in the inspect module.\n",
      "Below is the traceback from this internal error.\n",
      "\n",
      "\n",
      "KeyboardInterrupt\n",
      "\n"
     ]
    }
   ],
   "source": [
    "%%time\n",
    "total_dates.apply(download_roto_file)"
   ]
  },
  {
   "cell_type": "markdown",
   "metadata": {},
   "source": [
    "We then extract all useful information from the files we just wrote to .html, as stated in the scrape_roto_data docstring."
   ]
  },
  {
   "cell_type": "code",
   "execution_count": null,
   "metadata": {
    "scrolled": true
   },
   "outputs": [],
   "source": [
    "%%time\n",
    "total_dates.apply(scrape_roto_data)"
   ]
  },
  {
   "cell_type": "markdown",
   "metadata": {},
   "source": [
    "The below function simply combines all of the csv files we created in the above cell."
   ]
  },
  {
   "cell_type": "code",
   "execution_count": null,
   "metadata": {},
   "outputs": [],
   "source": [
    "def comb_roto_data(dates):\n",
    "    total_data = pd.DataFrame()\n",
    "    for date in dates:\n",
    "        fname = 'A2_data/Roto_Data/Roto_csv/roto_data_{}-{}-{}.csv'.format(str(date.year).zfill(2), str(date.month).zfill(2), str(date.day).zfill(2))\n",
    "        try:\n",
    "            total_data = total_data.append(pd.read_csv(fname))\n",
    "        except FileNotFoundError:\n",
    "            continue\n",
    "    return total_data.reset_index(drop=True)"
   ]
  },
  {
   "cell_type": "markdown",
   "metadata": {},
   "source": [
    "We store the output of comb_roto_data, a Pandas dataframe, into a variable called roto_data."
   ]
  },
  {
   "cell_type": "code",
   "execution_count": null,
   "metadata": {},
   "outputs": [],
   "source": [
    "%%time\n",
    "roto_data = comb_roto_data(total_dates)"
   ]
  },
  {
   "cell_type": "markdown",
   "metadata": {},
   "source": [
    "Write to csv for later access."
   ]
  },
  {
   "cell_type": "code",
   "execution_count": null,
   "metadata": {},
   "outputs": [],
   "source": [
    "roto_data.to_csv('A2_data/Roto_Data/roto_total_data.csv',index=False)"
   ]
  },
  {
   "cell_type": "code",
   "execution_count": 4,
   "metadata": {},
   "outputs": [],
   "source": [
    "roto_data = pd.read_csv('A2_data/Roto_Data/roto_total_data.csv')"
   ]
  },
  {
   "cell_type": "markdown",
   "metadata": {},
   "source": [
    "Below is the output of all the information we scraped from the rotoguru webpages."
   ]
  },
  {
   "cell_type": "code",
   "execution_count": 5,
   "metadata": {},
   "outputs": [
    {
     "data": {
      "text/html": [
       "<div>\n",
       "<style scoped>\n",
       "    .dataframe tbody tr th:only-of-type {\n",
       "        vertical-align: middle;\n",
       "    }\n",
       "\n",
       "    .dataframe tbody tr th {\n",
       "        vertical-align: top;\n",
       "    }\n",
       "\n",
       "    .dataframe thead th {\n",
       "        text-align: right;\n",
       "    }\n",
       "</style>\n",
       "<table border=\"1\" class=\"dataframe\">\n",
       "  <thead>\n",
       "    <tr style=\"text-align: right;\">\n",
       "      <th></th>\n",
       "      <th>Date</th>\n",
       "      <th>Position</th>\n",
       "      <th>LastName, FirstName</th>\n",
       "      <th>FD PTS</th>\n",
       "      <th>Salary</th>\n",
       "      <th>Team</th>\n",
       "      <th>Opp Team</th>\n",
       "      <th>Score</th>\n",
       "      <th>Min</th>\n",
       "      <th>Statline</th>\n",
       "    </tr>\n",
       "  </thead>\n",
       "  <tbody>\n",
       "    <tr>\n",
       "      <th>0</th>\n",
       "      <td>2016-10-25</td>\n",
       "      <td>PG</td>\n",
       "      <td>Lillard, Damian</td>\n",
       "      <td>54.8</td>\n",
       "      <td>8,900</td>\n",
       "      <td>por</td>\n",
       "      <td>v uta</td>\n",
       "      <td>113-104</td>\n",
       "      <td>35:25</td>\n",
       "      <td>39pt 9rb 6as 4to 4trey 13-20fg 9-9ft</td>\n",
       "    </tr>\n",
       "    <tr>\n",
       "      <th>1</th>\n",
       "      <td>2016-10-25</td>\n",
       "      <td>PG</td>\n",
       "      <td>Irving, Kyrie</td>\n",
       "      <td>41.4</td>\n",
       "      <td>7,100</td>\n",
       "      <td>cle</td>\n",
       "      <td>v nyk</td>\n",
       "      <td>117-88</td>\n",
       "      <td>29:48</td>\n",
       "      <td>29pt 2rb 4as 2st 4trey 12-22fg 1-1ft</td>\n",
       "    </tr>\n",
       "    <tr>\n",
       "      <th>2</th>\n",
       "      <td>2016-10-25</td>\n",
       "      <td>SG</td>\n",
       "      <td>Hood, Rodney</td>\n",
       "      <td>35.9</td>\n",
       "      <td>5,400</td>\n",
       "      <td>uta</td>\n",
       "      <td>@ por</td>\n",
       "      <td>104-113</td>\n",
       "      <td>37:39</td>\n",
       "      <td>26pt 2rb 1as 2st 1bl 3trey 9-17fg 5-5ft</td>\n",
       "    </tr>\n",
       "    <tr>\n",
       "      <th>3</th>\n",
       "      <td>2016-10-25</td>\n",
       "      <td>PG</td>\n",
       "      <td>Hill, George</td>\n",
       "      <td>35.4</td>\n",
       "      <td>5,600</td>\n",
       "      <td>uta</td>\n",
       "      <td>@ por</td>\n",
       "      <td>104-113</td>\n",
       "      <td>38:45</td>\n",
       "      <td>19pt 2rb 6as 2st 1bl 1to 1trey 7-18fg 4-4ft</td>\n",
       "    </tr>\n",
       "    <tr>\n",
       "      <th>4</th>\n",
       "      <td>2016-10-25</td>\n",
       "      <td>PG</td>\n",
       "      <td>Curry, Stephen</td>\n",
       "      <td>31.6</td>\n",
       "      <td>9,300</td>\n",
       "      <td>gsw</td>\n",
       "      <td>v sas</td>\n",
       "      <td>100-129</td>\n",
       "      <td>34:06</td>\n",
       "      <td>26pt 3rb 4as 4to 3trey 9-18fg 5-6ft</td>\n",
       "    </tr>\n",
       "    <tr>\n",
       "      <th>...</th>\n",
       "      <td>...</td>\n",
       "      <td>...</td>\n",
       "      <td>...</td>\n",
       "      <td>...</td>\n",
       "      <td>...</td>\n",
       "      <td>...</td>\n",
       "      <td>...</td>\n",
       "      <td>...</td>\n",
       "      <td>...</td>\n",
       "      <td>...</td>\n",
       "    </tr>\n",
       "    <tr>\n",
       "      <th>114960</th>\n",
       "      <td>2019-04-10</td>\n",
       "      <td>C</td>\n",
       "      <td>Cousins, DeMarcus</td>\n",
       "      <td>0.0</td>\n",
       "      <td>8,800</td>\n",
       "      <td>gsw</td>\n",
       "      <td>@ mem</td>\n",
       "      <td>117-132</td>\n",
       "      <td>0</td>\n",
       "      <td></td>\n",
       "    </tr>\n",
       "    <tr>\n",
       "      <th>114961</th>\n",
       "      <td>2019-04-10</td>\n",
       "      <td>C</td>\n",
       "      <td>Embiid, Joel</td>\n",
       "      <td>0.0</td>\n",
       "      <td>11,500</td>\n",
       "      <td>phi</td>\n",
       "      <td>v chi</td>\n",
       "      <td>125-109</td>\n",
       "      <td>0</td>\n",
       "      <td></td>\n",
       "    </tr>\n",
       "    <tr>\n",
       "      <th>114962</th>\n",
       "      <td>2019-04-10</td>\n",
       "      <td>C</td>\n",
       "      <td>Delgado, Angel</td>\n",
       "      <td>0.0</td>\n",
       "      <td>3,500</td>\n",
       "      <td>lac</td>\n",
       "      <td>v uta</td>\n",
       "      <td>143-137</td>\n",
       "      <td>0</td>\n",
       "      <td></td>\n",
       "    </tr>\n",
       "    <tr>\n",
       "      <th>114963</th>\n",
       "      <td>2019-04-10</td>\n",
       "      <td>C</td>\n",
       "      <td>Bamba, Mohamed</td>\n",
       "      <td>0.0</td>\n",
       "      <td>3,500</td>\n",
       "      <td>orl</td>\n",
       "      <td>@ cha</td>\n",
       "      <td>122-114</td>\n",
       "      <td>0</td>\n",
       "      <td></td>\n",
       "    </tr>\n",
       "    <tr>\n",
       "      <th>114964</th>\n",
       "      <td>2019-04-10</td>\n",
       "      <td>C</td>\n",
       "      <td>Dedmon, Dewayne</td>\n",
       "      <td>0.0</td>\n",
       "      <td>6,300</td>\n",
       "      <td>atl</td>\n",
       "      <td>v ind</td>\n",
       "      <td>134-135</td>\n",
       "      <td>0</td>\n",
       "      <td></td>\n",
       "    </tr>\n",
       "  </tbody>\n",
       "</table>\n",
       "<p>114965 rows × 10 columns</p>\n",
       "</div>"
      ],
      "text/plain": [
       "              Date Position LastName, FirstName  FD PTS  Salary Team Opp Team  \\\n",
       "0       2016-10-25       PG     Lillard, Damian    54.8   8,900  por    v uta   \n",
       "1       2016-10-25       PG       Irving, Kyrie    41.4   7,100  cle    v nyk   \n",
       "2       2016-10-25       SG        Hood, Rodney    35.9   5,400  uta    @ por   \n",
       "3       2016-10-25       PG        Hill, George    35.4   5,600  uta    @ por   \n",
       "4       2016-10-25       PG      Curry, Stephen    31.6   9,300  gsw    v sas   \n",
       "...            ...      ...                 ...     ...     ...  ...      ...   \n",
       "114960  2019-04-10        C   Cousins, DeMarcus     0.0   8,800  gsw    @ mem   \n",
       "114961  2019-04-10        C        Embiid, Joel     0.0  11,500  phi    v chi   \n",
       "114962  2019-04-10        C      Delgado, Angel     0.0   3,500  lac    v uta   \n",
       "114963  2019-04-10        C      Bamba, Mohamed     0.0   3,500  orl    @ cha   \n",
       "114964  2019-04-10        C     Dedmon, Dewayne     0.0   6,300  atl    v ind   \n",
       "\n",
       "           Score    Min                                        Statline  \n",
       "0        113-104  35:25            39pt 9rb 6as 4to 4trey 13-20fg 9-9ft  \n",
       "1         117-88  29:48            29pt 2rb 4as 2st 4trey 12-22fg 1-1ft  \n",
       "2        104-113  37:39         26pt 2rb 1as 2st 1bl 3trey 9-17fg 5-5ft  \n",
       "3        104-113  38:45     19pt 2rb 6as 2st 1bl 1to 1trey 7-18fg 4-4ft  \n",
       "4        100-129  34:06             26pt 3rb 4as 4to 3trey 9-18fg 5-6ft  \n",
       "...          ...    ...                                             ...  \n",
       "114960   117-132      0                                                  \n",
       "114961   125-109      0                                                  \n",
       "114962   143-137      0                                                  \n",
       "114963   122-114      0                                                  \n",
       "114964   134-135      0                                                  \n",
       "\n",
       "[114965 rows x 10 columns]"
      ]
     },
     "execution_count": 5,
     "metadata": {},
     "output_type": "execute_result"
    }
   ],
   "source": [
    "roto_data"
   ]
  },
  {
   "cell_type": "markdown",
   "metadata": {},
   "source": [
    "Next we scrape a dictionary that gives every NBA players a corresponding player ID.  This will be important when connecting different datasets from nba.com, as any dataset referencing NBA players will use 'playerID' to uniquely identify each player.  Thus we will easily be able to join different datasets on 'playerID'."
   ]
  },
  {
   "cell_type": "code",
   "execution_count": 6,
   "metadata": {},
   "outputs": [],
   "source": [
    "def player_dictionary():\n",
    "    with open('A2_data/nbaPlayerIDs.json') as f:\n",
    "        j = json.loads(f.read())\n",
    "    return pd.DataFrame(j['resultSets'][0]['rowSet'], columns=j['resultSets'][0]['headers'])"
   ]
  },
  {
   "cell_type": "code",
   "execution_count": 7,
   "metadata": {},
   "outputs": [],
   "source": [
    "player_dict_df = player_dictionary()"
   ]
  },
  {
   "cell_type": "markdown",
   "metadata": {},
   "source": [
    "We then scrape player and team boxscores, as well as player bios by using the following function.  As an additional note, I was able to scrape this data by copy and pasting the json for each table under the Network tab of developer tools on stats.nba.com for each of the nba.com datasets (3 in total)."
   ]
  },
  {
   "cell_type": "code",
   "execution_count": 8,
   "metadata": {},
   "outputs": [],
   "source": [
    "def nba_boxscores(fname, st_yr, end_yr):\n",
    "    df = pd.DataFrame()\n",
    "    yr_dict = {i:'22'+str(i).zfill(3) for i in range(st_yr, end_yr+1)}\n",
    "    for yr in range(st_yr, end_yr+1):\n",
    "        curr_yr, next_yr = yr, yr+1\n",
    "        with open('A2_data/NBA_boxscores/'+fname+'{}-{}.json'.format(curr_yr, next_yr)) as f:\n",
    "            k = json.loads(f.read())\n",
    "            yr_data = pd.DataFrame(k['resultSets'][0]['rowSet'], columns=k['resultSets'][0]['headers'])\n",
    "            if 'Bio' in fname:\n",
    "                yr_data['SEASON_ID'] = yr_dict[curr_yr]\n",
    "            #print(yr_data)\n",
    "            df = df.append(yr_data)\n",
    "    return df"
   ]
  },
  {
   "cell_type": "markdown",
   "metadata": {},
   "source": [
    "As you can see, the above function takes a filename, start, and end year, thus making it easy to scrape different datasets that follow a similar naming convention."
   ]
  },
  {
   "cell_type": "code",
   "execution_count": 9,
   "metadata": {},
   "outputs": [
    {
     "name": "stdout",
     "output_type": "stream",
     "text": [
      "CPU times: user 1.67 s, sys: 130 ms, total: 1.79 s\n",
      "Wall time: 1.67 s\n"
     ]
    }
   ],
   "source": [
    "%%time\n",
    "player_fname = 'playerData'\n",
    "team_fname = 'teamData'\n",
    "NBA_player_data = nba_boxscores(player_fname, 16, 18).reset_index(drop=True)\n",
    "NBA_team_data = nba_boxscores(team_fname, 16, 18).reset_index(drop=True)\n",
    "NBA_player_bios = nba_boxscores('playerBios', 16, 18).reset_index(drop=True)"
   ]
  },
  {
   "cell_type": "markdown",
   "metadata": {},
   "source": [
    "The following function combines the roto_data and NBA_player_data dataframes, which was arguably the most difficult process in the data cleaning process.  This is because were hundreds of names between stats.nba.com and rotoguru1.com that did not perfectly match.  For example, one site would have 'J.R. Smith', while the other site had 'JR Smith'.  I had to create a missing_players function to map player names that were inconsistent between the two sites.  I switched all names to the stats.nba.com datasets as we were using more data from that site than rotoguru1.com.  Most of the names were fixed pretty easily by stripping periods from names or checking if one name was a subset of the other; but some names I ended up changing manually as there were a couple unpredictable inconsistencies.  Once I fix all the names, I merge the two datasets by the unique keys for each row from both datasets, which is playerID and Game Date."
   ]
  },
  {
   "cell_type": "code",
   "execution_count": 10,
   "metadata": {},
   "outputs": [],
   "source": [
    "def roto_nba_combine(NBA_data, roto_data, player_dict_df):\n",
    "    player_dict = dict(zip(player_dict_df['DISPLAY_LAST_COMMA_FIRST'], player_dict_df['PERSON_ID']))\n",
    "    player_ids = roto_data['LastName, FirstName'].apply(lambda x: [player_dict[x] if x in player_dict else x][0])\n",
    "    corr_names = missing_players(roto_data, player_ids, player_dict)\n",
    "    roto_data['LastName, FirstName'] = roto_data['LastName, FirstName'].replace(corr_names)\n",
    "    player_ids = roto_data['LastName, FirstName'].apply(lambda x: [player_dict[x] if x in player_dict else ''][0])\n",
    "    roto_data['NBA_ID'] = player_ids\n",
    "    \n",
    "    return roto_data.merge(NBA_data, how='inner', left_on=['NBA_ID', 'Date'], right_on=['PLAYER_ID','GAME_DATE'])\n",
    "    \n",
    "    \n",
    "    "
   ]
  },
  {
   "cell_type": "code",
   "execution_count": 11,
   "metadata": {},
   "outputs": [],
   "source": [
    "def missing_players(roto_data, player_ids, player_dict):\n",
    "    '''Returns a dictionary of the names to correct from the roto dataset to NBA.  Update this as needed'''\n",
    "    players_not_found = roto_data[player_ids.str.isdigit() == False]\n",
    "    corr_names = {}\n",
    "    for name in players_not_found['LastName, FirstName'].unique():\n",
    "        for key in player_dict.keys():\n",
    "            names = name.split(',')\n",
    "            if (names[0] in key and names[1] in key):\n",
    "                corr_names[name] = key\n",
    "    players_not_found = list(set(players_not_found['LastName, FirstName'].unique()) - set(corr_names.keys()))\n",
    "    name_pattern = '[A-Z]{2}'\n",
    "    name_prog = re.compile(name_pattern)\n",
    "    players_not_found = [re.sub(name_prog, p_name[-2]+'.'+p_name[-1]+'.',p_name) for p_name in players_not_found]\n",
    "    for name in players_not_found:\n",
    "        for key in player_dict.keys():\n",
    "            names = name.split(',')\n",
    "            if (names[0] in key and names[1] in key):\n",
    "                corr_names[name] = key\n",
    "    corr_names['Williams, Louis'] = 'Williams, Lou'\n",
    "    corr_names['Jr, Walter'] = 'Lemon Jr., Walt'\n",
    "    corr_names['Hernangomez, Guillermo'] = 'Hernangomez, Willy'\n",
    "    corr_names['Long, Nazareth'] = 'Mitrou-Long Naz'\n",
    "    corr_names['o.b.I, Jacob'] = 'Evans, Jacob'\n",
    "    corr_names['Bamba, Mohamed'] = 'Bamba, Mo'\n",
    "    corr_names['n.k.I, Frank'] = 'Mason, Frank'\n",
    "    corr_names['Smith, Ishmael'] = 'Smith, Ish'\n",
    "    corr_names['Mykhailiuk, Sviatoslav'] = 'Mykhailiuk, Svi'\n",
    "    corr_names['Barea, Jose'] = 'Barea, J.J.'\n",
    "    corr_names['Hilario, Nene'] = 'Nene'\n",
    "    return corr_names\n",
    "    "
   ]
  },
  {
   "cell_type": "markdown",
   "metadata": {},
   "source": [
    "We saved the output of the combine function into a variable that is a Pandas dataframe."
   ]
  },
  {
   "cell_type": "code",
   "execution_count": 12,
   "metadata": {},
   "outputs": [
    {
     "name": "stdout",
     "output_type": "stream",
     "text": [
      "CPU times: user 1.08 s, sys: 62.8 ms, total: 1.14 s\n",
      "Wall time: 1.15 s\n"
     ]
    }
   ],
   "source": [
    "%%time\n",
    "nba_roto_data = roto_nba_combine(NBA_player_data, roto_data, player_dict_df)"
   ]
  },
  {
   "cell_type": "markdown",
   "metadata": {},
   "source": [
    "The following function cleans some of the combined dataset by converting Salary from a string to an integer by stripping commas, and creating a binary column for whether or not the player's team played at home (1 means they were home, 0 for away).  We then drop unnecessary columns from the dataframe."
   ]
  },
  {
   "cell_type": "code",
   "execution_count": 13,
   "metadata": {},
   "outputs": [],
   "source": [
    "def nba_roto_clean(df):\n",
    "    df['Salary'] = df['Salary'].str.replace(',','').fillna(0).astype(int)\n",
    "    df['Home?'] = df['MATCHUP'].apply(lambda x: x.split(' ')[1]).map({'vs.':1,'@':0}).astype(int)\n",
    "    df = df.drop(['Team', 'Opp Team', 'Score', 'Statline', 'Min'], axis=1)\n",
    "    \n",
    "    return df"
   ]
  },
  {
   "cell_type": "code",
   "execution_count": 14,
   "metadata": {},
   "outputs": [],
   "source": [
    "clean_nba_roto = nba_roto_clean(nba_roto_data)"
   ]
  },
  {
   "cell_type": "markdown",
   "metadata": {},
   "source": [
    "Here is what our combined dataframe looks like so far:"
   ]
  },
  {
   "cell_type": "code",
   "execution_count": 15,
   "metadata": {},
   "outputs": [
    {
     "data": {
      "text/html": [
       "<div>\n",
       "<style scoped>\n",
       "    .dataframe tbody tr th:only-of-type {\n",
       "        vertical-align: middle;\n",
       "    }\n",
       "\n",
       "    .dataframe tbody tr th {\n",
       "        vertical-align: top;\n",
       "    }\n",
       "\n",
       "    .dataframe thead th {\n",
       "        text-align: right;\n",
       "    }\n",
       "</style>\n",
       "<table border=\"1\" class=\"dataframe\">\n",
       "  <thead>\n",
       "    <tr style=\"text-align: right;\">\n",
       "      <th></th>\n",
       "      <th>Date</th>\n",
       "      <th>Position</th>\n",
       "      <th>LastName, FirstName</th>\n",
       "      <th>FD PTS</th>\n",
       "      <th>Salary</th>\n",
       "      <th>NBA_ID</th>\n",
       "      <th>SEASON_ID</th>\n",
       "      <th>PLAYER_ID</th>\n",
       "      <th>PLAYER_NAME</th>\n",
       "      <th>TEAM_ID</th>\n",
       "      <th>...</th>\n",
       "      <th>OREB</th>\n",
       "      <th>DREB</th>\n",
       "      <th>REB</th>\n",
       "      <th>AST</th>\n",
       "      <th>STL</th>\n",
       "      <th>BLK</th>\n",
       "      <th>TOV</th>\n",
       "      <th>PF</th>\n",
       "      <th>PLUS_MINUS</th>\n",
       "      <th>Home?</th>\n",
       "    </tr>\n",
       "  </thead>\n",
       "  <tbody>\n",
       "    <tr>\n",
       "      <th>0</th>\n",
       "      <td>2016-10-25</td>\n",
       "      <td>PG</td>\n",
       "      <td>Lillard, Damian</td>\n",
       "      <td>54.8</td>\n",
       "      <td>8900</td>\n",
       "      <td>203081</td>\n",
       "      <td>22016</td>\n",
       "      <td>203081</td>\n",
       "      <td>Damian Lillard</td>\n",
       "      <td>1610612757</td>\n",
       "      <td>...</td>\n",
       "      <td>1</td>\n",
       "      <td>8</td>\n",
       "      <td>9</td>\n",
       "      <td>6</td>\n",
       "      <td>0</td>\n",
       "      <td>0</td>\n",
       "      <td>4</td>\n",
       "      <td>3</td>\n",
       "      <td>1</td>\n",
       "      <td>1</td>\n",
       "    </tr>\n",
       "    <tr>\n",
       "      <th>1</th>\n",
       "      <td>2016-10-25</td>\n",
       "      <td>PG</td>\n",
       "      <td>Irving, Kyrie</td>\n",
       "      <td>41.4</td>\n",
       "      <td>7100</td>\n",
       "      <td>202681</td>\n",
       "      <td>22016</td>\n",
       "      <td>202681</td>\n",
       "      <td>Kyrie Irving</td>\n",
       "      <td>1610612739</td>\n",
       "      <td>...</td>\n",
       "      <td>1</td>\n",
       "      <td>1</td>\n",
       "      <td>2</td>\n",
       "      <td>4</td>\n",
       "      <td>2</td>\n",
       "      <td>0</td>\n",
       "      <td>0</td>\n",
       "      <td>1</td>\n",
       "      <td>13</td>\n",
       "      <td>1</td>\n",
       "    </tr>\n",
       "    <tr>\n",
       "      <th>2</th>\n",
       "      <td>2016-10-25</td>\n",
       "      <td>SG</td>\n",
       "      <td>Hood, Rodney</td>\n",
       "      <td>35.9</td>\n",
       "      <td>5400</td>\n",
       "      <td>203918</td>\n",
       "      <td>22016</td>\n",
       "      <td>203918</td>\n",
       "      <td>Rodney Hood</td>\n",
       "      <td>1610612762</td>\n",
       "      <td>...</td>\n",
       "      <td>0</td>\n",
       "      <td>2</td>\n",
       "      <td>2</td>\n",
       "      <td>1</td>\n",
       "      <td>2</td>\n",
       "      <td>1</td>\n",
       "      <td>0</td>\n",
       "      <td>3</td>\n",
       "      <td>5</td>\n",
       "      <td>0</td>\n",
       "    </tr>\n",
       "    <tr>\n",
       "      <th>3</th>\n",
       "      <td>2016-10-25</td>\n",
       "      <td>PG</td>\n",
       "      <td>Hill, George</td>\n",
       "      <td>35.4</td>\n",
       "      <td>5600</td>\n",
       "      <td>201588</td>\n",
       "      <td>22016</td>\n",
       "      <td>201588</td>\n",
       "      <td>George Hill</td>\n",
       "      <td>1610612762</td>\n",
       "      <td>...</td>\n",
       "      <td>0</td>\n",
       "      <td>2</td>\n",
       "      <td>2</td>\n",
       "      <td>6</td>\n",
       "      <td>2</td>\n",
       "      <td>1</td>\n",
       "      <td>1</td>\n",
       "      <td>2</td>\n",
       "      <td>2</td>\n",
       "      <td>0</td>\n",
       "    </tr>\n",
       "    <tr>\n",
       "      <th>4</th>\n",
       "      <td>2016-10-25</td>\n",
       "      <td>PG</td>\n",
       "      <td>Curry, Stephen</td>\n",
       "      <td>31.6</td>\n",
       "      <td>9300</td>\n",
       "      <td>201939</td>\n",
       "      <td>22016</td>\n",
       "      <td>201939</td>\n",
       "      <td>Stephen Curry</td>\n",
       "      <td>1610612744</td>\n",
       "      <td>...</td>\n",
       "      <td>0</td>\n",
       "      <td>3</td>\n",
       "      <td>3</td>\n",
       "      <td>4</td>\n",
       "      <td>0</td>\n",
       "      <td>0</td>\n",
       "      <td>4</td>\n",
       "      <td>1</td>\n",
       "      <td>-9</td>\n",
       "      <td>1</td>\n",
       "    </tr>\n",
       "  </tbody>\n",
       "</table>\n",
       "<p>5 rows × 37 columns</p>\n",
       "</div>"
      ],
      "text/plain": [
       "         Date Position LastName, FirstName  FD PTS  Salary  NBA_ID SEASON_ID  \\\n",
       "0  2016-10-25       PG     Lillard, Damian    54.8    8900  203081     22016   \n",
       "1  2016-10-25       PG       Irving, Kyrie    41.4    7100  202681     22016   \n",
       "2  2016-10-25       SG        Hood, Rodney    35.9    5400  203918     22016   \n",
       "3  2016-10-25       PG        Hill, George    35.4    5600  201588     22016   \n",
       "4  2016-10-25       PG      Curry, Stephen    31.6    9300  201939     22016   \n",
       "\n",
       "   PLAYER_ID     PLAYER_NAME     TEAM_ID  ... OREB DREB REB AST STL BLK  TOV  \\\n",
       "0     203081  Damian Lillard  1610612757  ...    1    8   9   6   0   0    4   \n",
       "1     202681    Kyrie Irving  1610612739  ...    1    1   2   4   2   0    0   \n",
       "2     203918     Rodney Hood  1610612762  ...    0    2   2   1   2   1    0   \n",
       "3     201588     George Hill  1610612762  ...    0    2   2   6   2   1    1   \n",
       "4     201939   Stephen Curry  1610612744  ...    0    3   3   4   0   0    4   \n",
       "\n",
       "   PF  PLUS_MINUS  Home?  \n",
       "0   3           1      1  \n",
       "1   1          13      1  \n",
       "2   3           5      0  \n",
       "3   2           2      0  \n",
       "4   1          -9      1  \n",
       "\n",
       "[5 rows x 37 columns]"
      ]
     },
     "execution_count": 15,
     "metadata": {},
     "output_type": "execute_result"
    }
   ],
   "source": [
    "clean_nba_roto.head()"
   ]
  },
  {
   "cell_type": "markdown",
   "metadata": {},
   "source": [
    "After cleaning the combined player boxscores and rotoguru data, we will combine the dataframe with the player's corresponding team boxscore for that game.  This is done by finding the set difference between the team boxscores dataframe and the cleaned combined dataframe, then merging the two on 'GAME_ID' and 'TEAM_ID'."
   ]
  },
  {
   "cell_type": "code",
   "execution_count": 16,
   "metadata": {},
   "outputs": [],
   "source": [
    "cols_to_use_team = list(NBA_team_data.columns.difference(clean_nba_roto.columns))\n",
    "cols_to_use_team.append('GAME_ID')\n",
    "cols_to_use_team.append('TEAM_ID')"
   ]
  },
  {
   "cell_type": "code",
   "execution_count": 17,
   "metadata": {},
   "outputs": [],
   "source": [
    "player_team_combined = clean_nba_roto.merge(NBA_team_data[cols_to_use_team], on=['GAME_ID', 'TEAM_ID'])"
   ]
  },
  {
   "cell_type": "markdown",
   "metadata": {},
   "source": [
    "We have now joined advanced team stats from each game to player boxscores for that game.  This will give us a better picture of how the team around the player performed in each game."
   ]
  },
  {
   "cell_type": "code",
   "execution_count": 18,
   "metadata": {},
   "outputs": [
    {
     "data": {
      "text/plain": [
       "Index(['Date', 'Position', 'LastName, FirstName', 'FD PTS', 'Salary', 'NBA_ID',\n",
       "       'SEASON_ID', 'PLAYER_ID', 'PLAYER_NAME', 'TEAM_ID', 'TEAM_ABBREVIATION',\n",
       "       'TEAM_NAME', 'GAME_ID', 'GAME_DATE', 'MATCHUP', 'WL', 'MIN', 'PTS',\n",
       "       'FGM', 'FGA', 'FG_PCT', 'FG3M', 'FG3A', 'FG3_PCT', 'FTM', 'FTA',\n",
       "       'FT_PCT', 'OREB', 'DREB', 'REB', 'AST', 'STL', 'BLK', 'TOV', 'PF',\n",
       "       'PLUS_MINUS', 'Home?', 'AST_PCT', 'AST_PCT_RANK', 'AST_RATIO',\n",
       "       'AST_RATIO_RANK', 'AST_TO', 'AST_TO_RANK', 'DEF_RATING',\n",
       "       'DEF_RATING_RANK', 'DREB_PCT', 'DREB_PCT_RANK', 'EFG_PCT',\n",
       "       'EFG_PCT_RANK', 'E_DEF_RATING', 'E_NET_RATING', 'E_OFF_RATING',\n",
       "       'E_PACE', 'GP_RANK', 'L_RANK', 'MIN_RANK', 'NET_RATING',\n",
       "       'NET_RATING_RANK', 'OFF_RATING', 'OFF_RATING_RANK', 'OREB_PCT',\n",
       "       'OREB_PCT_RANK', 'PACE', 'PACE_PER40', 'PACE_RANK', 'PIE', 'PIE_RANK',\n",
       "       'POSS', 'REB_PCT', 'REB_PCT_RANK', 'SEASON_YEAR', 'TM_TOV_PCT',\n",
       "       'TM_TOV_PCT_RANK', 'TS_PCT', 'TS_PCT_RANK', 'W_PCT_RANK', 'W_RANK'],\n",
       "      dtype='object')"
      ]
     },
     "execution_count": 18,
     "metadata": {},
     "output_type": "execute_result"
    }
   ],
   "source": [
    "player_team_combined.columns"
   ]
  },
  {
   "cell_type": "markdown",
   "metadata": {},
   "source": [
    "We drop columns ending in '_RANK' as we found them to be redundant."
   ]
  },
  {
   "cell_type": "code",
   "execution_count": 19,
   "metadata": {},
   "outputs": [],
   "source": [
    "player_team_combined = player_team_combined.drop([i for i in player_team_combined.columns if '_RANK' in i], axis=1)"
   ]
  },
  {
   "cell_type": "markdown",
   "metadata": {},
   "source": [
    "As we prepare to add player bios to the dataset, we drop redundant or unnecessary columns from NBA_player_bios."
   ]
  },
  {
   "cell_type": "code",
   "execution_count": 20,
   "metadata": {
    "scrolled": true
   },
   "outputs": [],
   "source": [
    "NBA_player_bios = NBA_player_bios.drop(['COLLEGE', 'DRAFT_YEAR','COUNTRY', 'PLAYER_HEIGHT'],axis=1)"
   ]
  },
  {
   "cell_type": "code",
   "execution_count": 21,
   "metadata": {},
   "outputs": [],
   "source": [
    "NBA_player_bios = NBA_player_bios.drop(NBA_player_bios.columns[9:-1],axis=1)"
   ]
  },
  {
   "cell_type": "markdown",
   "metadata": {},
   "source": [
    "We then merge player bios with the combined player and team boxscores dataframe by their common unique keys: 'PLAYER_ID' and 'SEASON_ID'."
   ]
  },
  {
   "cell_type": "code",
   "execution_count": 22,
   "metadata": {},
   "outputs": [],
   "source": [
    "cols_to_use = list(NBA_player_bios.columns.difference(player_team_combined.columns))\n",
    "cols_to_use.append('PLAYER_ID')\n",
    "cols_to_use.append('SEASON_ID')"
   ]
  },
  {
   "cell_type": "code",
   "execution_count": 23,
   "metadata": {},
   "outputs": [
    {
     "name": "stdout",
     "output_type": "stream",
     "text": [
      "CPU times: user 253 ms, sys: 53.2 ms, total: 306 ms\n",
      "Wall time: 305 ms\n"
     ]
    }
   ],
   "source": [
    "%%time\n",
    "player_team_bios = player_team_combined.merge(NBA_player_bios[cols_to_use], on=['PLAYER_ID','SEASON_ID'])"
   ]
  },
  {
   "cell_type": "code",
   "execution_count": 24,
   "metadata": {},
   "outputs": [],
   "source": [
    "player_team_bios = player_team_bios.drop(['NBA_ID'], axis=1)"
   ]
  },
  {
   "cell_type": "markdown",
   "metadata": {},
   "source": [
    "Here is now what our total dataframe looks like:"
   ]
  },
  {
   "cell_type": "code",
   "execution_count": 25,
   "metadata": {},
   "outputs": [
    {
     "data": {
      "text/html": [
       "<div>\n",
       "<style scoped>\n",
       "    .dataframe tbody tr th:only-of-type {\n",
       "        vertical-align: middle;\n",
       "    }\n",
       "\n",
       "    .dataframe tbody tr th {\n",
       "        vertical-align: top;\n",
       "    }\n",
       "\n",
       "    .dataframe thead th {\n",
       "        text-align: right;\n",
       "    }\n",
       "</style>\n",
       "<table border=\"1\" class=\"dataframe\">\n",
       "  <thead>\n",
       "    <tr style=\"text-align: right;\">\n",
       "      <th></th>\n",
       "      <th>Date</th>\n",
       "      <th>Position</th>\n",
       "      <th>LastName, FirstName</th>\n",
       "      <th>FD PTS</th>\n",
       "      <th>Salary</th>\n",
       "      <th>SEASON_ID</th>\n",
       "      <th>PLAYER_ID</th>\n",
       "      <th>PLAYER_NAME</th>\n",
       "      <th>TEAM_ID</th>\n",
       "      <th>TEAM_ABBREVIATION</th>\n",
       "      <th>...</th>\n",
       "      <th>POSS</th>\n",
       "      <th>REB_PCT</th>\n",
       "      <th>SEASON_YEAR</th>\n",
       "      <th>TM_TOV_PCT</th>\n",
       "      <th>TS_PCT</th>\n",
       "      <th>AGE</th>\n",
       "      <th>DRAFT_NUMBER</th>\n",
       "      <th>DRAFT_ROUND</th>\n",
       "      <th>PLAYER_HEIGHT_INCHES</th>\n",
       "      <th>PLAYER_WEIGHT</th>\n",
       "    </tr>\n",
       "  </thead>\n",
       "  <tbody>\n",
       "    <tr>\n",
       "      <th>0</th>\n",
       "      <td>2016-10-25</td>\n",
       "      <td>PG</td>\n",
       "      <td>Lillard, Damian</td>\n",
       "      <td>54.8</td>\n",
       "      <td>8900</td>\n",
       "      <td>22016</td>\n",
       "      <td>203081</td>\n",
       "      <td>Damian Lillard</td>\n",
       "      <td>1610612757</td>\n",
       "      <td>POR</td>\n",
       "      <td>...</td>\n",
       "      <td>92</td>\n",
       "      <td>0.500</td>\n",
       "      <td>2016-17</td>\n",
       "      <td>0.141</td>\n",
       "      <td>0.667</td>\n",
       "      <td>26.0</td>\n",
       "      <td>6</td>\n",
       "      <td>1</td>\n",
       "      <td>75</td>\n",
       "      <td>195</td>\n",
       "    </tr>\n",
       "    <tr>\n",
       "      <th>1</th>\n",
       "      <td>2016-10-27</td>\n",
       "      <td>PG</td>\n",
       "      <td>Lillard, Damian</td>\n",
       "      <td>41.5</td>\n",
       "      <td>9100</td>\n",
       "      <td>22016</td>\n",
       "      <td>203081</td>\n",
       "      <td>Damian Lillard</td>\n",
       "      <td>1610612757</td>\n",
       "      <td>POR</td>\n",
       "      <td>...</td>\n",
       "      <td>102</td>\n",
       "      <td>0.509</td>\n",
       "      <td>2016-17</td>\n",
       "      <td>0.137</td>\n",
       "      <td>0.535</td>\n",
       "      <td>26.0</td>\n",
       "      <td>6</td>\n",
       "      <td>1</td>\n",
       "      <td>75</td>\n",
       "      <td>195</td>\n",
       "    </tr>\n",
       "    <tr>\n",
       "      <th>2</th>\n",
       "      <td>2016-10-29</td>\n",
       "      <td>PG</td>\n",
       "      <td>Lillard, Damian</td>\n",
       "      <td>56.5</td>\n",
       "      <td>9100</td>\n",
       "      <td>22016</td>\n",
       "      <td>203081</td>\n",
       "      <td>Damian Lillard</td>\n",
       "      <td>1610612757</td>\n",
       "      <td>POR</td>\n",
       "      <td>...</td>\n",
       "      <td>115</td>\n",
       "      <td>0.434</td>\n",
       "      <td>2016-17</td>\n",
       "      <td>0.139</td>\n",
       "      <td>0.536</td>\n",
       "      <td>26.0</td>\n",
       "      <td>6</td>\n",
       "      <td>1</td>\n",
       "      <td>75</td>\n",
       "      <td>195</td>\n",
       "    </tr>\n",
       "    <tr>\n",
       "      <th>3</th>\n",
       "      <td>2016-11-01</td>\n",
       "      <td>PG</td>\n",
       "      <td>Lillard, Damian</td>\n",
       "      <td>36.2</td>\n",
       "      <td>9900</td>\n",
       "      <td>22016</td>\n",
       "      <td>203081</td>\n",
       "      <td>Damian Lillard</td>\n",
       "      <td>1610612757</td>\n",
       "      <td>POR</td>\n",
       "      <td>...</td>\n",
       "      <td>105</td>\n",
       "      <td>0.422</td>\n",
       "      <td>2016-17</td>\n",
       "      <td>0.171</td>\n",
       "      <td>0.546</td>\n",
       "      <td>26.0</td>\n",
       "      <td>6</td>\n",
       "      <td>1</td>\n",
       "      <td>75</td>\n",
       "      <td>195</td>\n",
       "    </tr>\n",
       "    <tr>\n",
       "      <th>4</th>\n",
       "      <td>2016-11-02</td>\n",
       "      <td>PG</td>\n",
       "      <td>Lillard, Damian</td>\n",
       "      <td>40.5</td>\n",
       "      <td>9900</td>\n",
       "      <td>22016</td>\n",
       "      <td>203081</td>\n",
       "      <td>Damian Lillard</td>\n",
       "      <td>1610612757</td>\n",
       "      <td>POR</td>\n",
       "      <td>...</td>\n",
       "      <td>113</td>\n",
       "      <td>0.484</td>\n",
       "      <td>2016-17</td>\n",
       "      <td>0.133</td>\n",
       "      <td>0.522</td>\n",
       "      <td>26.0</td>\n",
       "      <td>6</td>\n",
       "      <td>1</td>\n",
       "      <td>75</td>\n",
       "      <td>195</td>\n",
       "    </tr>\n",
       "  </tbody>\n",
       "</table>\n",
       "<p>5 rows × 62 columns</p>\n",
       "</div>"
      ],
      "text/plain": [
       "         Date Position LastName, FirstName  FD PTS  Salary SEASON_ID  \\\n",
       "0  2016-10-25       PG     Lillard, Damian    54.8    8900     22016   \n",
       "1  2016-10-27       PG     Lillard, Damian    41.5    9100     22016   \n",
       "2  2016-10-29       PG     Lillard, Damian    56.5    9100     22016   \n",
       "3  2016-11-01       PG     Lillard, Damian    36.2    9900     22016   \n",
       "4  2016-11-02       PG     Lillard, Damian    40.5    9900     22016   \n",
       "\n",
       "   PLAYER_ID     PLAYER_NAME     TEAM_ID TEAM_ABBREVIATION  ... POSS REB_PCT  \\\n",
       "0     203081  Damian Lillard  1610612757               POR  ...   92   0.500   \n",
       "1     203081  Damian Lillard  1610612757               POR  ...  102   0.509   \n",
       "2     203081  Damian Lillard  1610612757               POR  ...  115   0.434   \n",
       "3     203081  Damian Lillard  1610612757               POR  ...  105   0.422   \n",
       "4     203081  Damian Lillard  1610612757               POR  ...  113   0.484   \n",
       "\n",
       "  SEASON_YEAR TM_TOV_PCT TS_PCT   AGE  DRAFT_NUMBER  DRAFT_ROUND  \\\n",
       "0     2016-17      0.141  0.667  26.0             6            1   \n",
       "1     2016-17      0.137  0.535  26.0             6            1   \n",
       "2     2016-17      0.139  0.536  26.0             6            1   \n",
       "3     2016-17      0.171  0.546  26.0             6            1   \n",
       "4     2016-17      0.133  0.522  26.0             6            1   \n",
       "\n",
       "   PLAYER_HEIGHT_INCHES  PLAYER_WEIGHT  \n",
       "0                    75            195  \n",
       "1                    75            195  \n",
       "2                    75            195  \n",
       "3                    75            195  \n",
       "4                    75            195  \n",
       "\n",
       "[5 rows x 62 columns]"
      ]
     },
     "execution_count": 25,
     "metadata": {},
     "output_type": "execute_result"
    }
   ],
   "source": [
    "player_team_bios.head()"
   ]
  },
  {
   "cell_type": "markdown",
   "metadata": {},
   "source": [
    "We wanted to derive BMI of a player from the player's weight and height, so we had to change the dtype of 'PLAYER_WEIGHT' from object to integer."
   ]
  },
  {
   "cell_type": "code",
   "execution_count": 26,
   "metadata": {},
   "outputs": [
    {
     "data": {
      "text/plain": [
       "dtype('O')"
      ]
     },
     "execution_count": 26,
     "metadata": {},
     "output_type": "execute_result"
    }
   ],
   "source": [
    "player_team_bios['PLAYER_WEIGHT'].dtype"
   ]
  },
  {
   "cell_type": "code",
   "execution_count": 27,
   "metadata": {},
   "outputs": [],
   "source": [
    "player_team_bios['PLAYER_WEIGHT'] = player_team_bios['PLAYER_WEIGHT'].astype(int)"
   ]
  },
  {
   "cell_type": "code",
   "execution_count": 28,
   "metadata": {},
   "outputs": [],
   "source": [
    "player_team_bios['BMI'] = player_team_bios['PLAYER_WEIGHT']/(player_team_bios['PLAYER_HEIGHT_INCHES'] ** 2) * 703 "
   ]
  },
  {
   "cell_type": "markdown",
   "metadata": {},
   "source": []
  },
  {
   "cell_type": "code",
   "execution_count": 29,
   "metadata": {},
   "outputs": [],
   "source": [
    "player_team_bios = player_team_bios.set_index('Date')#.sort_index()"
   ]
  },
  {
   "cell_type": "code",
   "execution_count": 30,
   "metadata": {},
   "outputs": [],
   "source": [
    "player_team_bios = player_team_bios.sort_index()"
   ]
  },
  {
   "cell_type": "markdown",
   "metadata": {},
   "source": [
    "The below cells create an import feature we will later use in our model.  Basically, we wanted to come up with features that we could realistically know before the player's game begins.  We decided to compute the rolling averages of the past 5 games for several different player and team statistics.  Implementing this proved to be a bit tricky, as we had to create a Game_ID for each row, which represents the number game that player has played in the dataset, sorted by ascending date.  For example, a player's first game played in this dataset, which contains the last 3 NBA seasons, is given a 'PLAYER_GAME_ID' of 0.  The next game they play would be assigned an id of 1, and so on."
   ]
  },
  {
   "cell_type": "markdown",
   "metadata": {},
   "source": []
  },
  {
   "cell_type": "markdown",
   "metadata": {},
   "source": [
    "We then create player_groups, whichTo actually implement this, we first group the dataframe by player id, and create a dictionary with a player_id assigned to a dictionary of index values assigned to its corresponding 'PLAYER_GAME_ID' value.  This is implemented in player_groups."
   ]
  },
  {
   "cell_type": "code",
   "execution_count": 31,
   "metadata": {},
   "outputs": [],
   "source": [
    "player_groups = player_team_bios.groupby('PLAYER_ID').apply(lambda x: dict(zip(x.index,range(0,len(x.index)))))"
   ]
  },
  {
   "cell_type": "code",
   "execution_count": 32,
   "metadata": {},
   "outputs": [],
   "source": [
    "#player_groups = player_team_bios.groupby('PLAYER_ID').apply(lambda x: (game_dates_by_player[pd.Series(x['PLAYER_ID'].values).unique()[0]]))"
   ]
  },
  {
   "cell_type": "code",
   "execution_count": 33,
   "metadata": {},
   "outputs": [
    {
     "data": {
      "text/plain": [
       "PLAYER_ID\n",
       "1713       {'2016-10-26': 0, '2016-10-29': 1, '2016-10-30...\n",
       "1717       {'2016-10-26': 0, '2016-11-02': 1, '2016-11-04...\n",
       "1718       {'2016-11-29': 0, '2016-12-01': 1, '2016-12-20...\n",
       "1891       {'2016-10-26': 0, '2016-11-03': 1, '2016-11-06...\n",
       "1897                      {'2017-04-05': 0, '2017-04-11': 1}\n",
       "                                 ...                        \n",
       "1629234                                    {'2019-02-06': 0}\n",
       "1629244    {'2019-03-09': 0, '2019-03-10': 1, '2019-03-12...\n",
       "1629312                                    {'2019-04-10': 0}\n",
       "1629353    {'2019-04-02': 0, '2019-04-05': 1, '2019-04-07...\n",
       "1629541    {'2019-03-20': 0, '2019-03-31': 1, '2019-04-03...\n",
       "Length: 658, dtype: object"
      ]
     },
     "execution_count": 33,
     "metadata": {},
     "output_type": "execute_result"
    }
   ],
   "source": [
    "player_groups"
   ]
  },
  {
   "cell_type": "markdown",
   "metadata": {},
   "source": [
    "After creating player groups, we do some fancy indexing to update the main dataframe."
   ]
  },
  {
   "cell_type": "code",
   "execution_count": 34,
   "metadata": {},
   "outputs": [
    {
     "name": "stdout",
     "output_type": "stream",
     "text": [
      "CPU times: user 2.4 s, sys: 84.2 ms, total: 2.49 s\n",
      "Wall time: 2.53 s\n"
     ]
    }
   ],
   "source": [
    "%%time\n",
    "player_team_bios['PLAYER_GAME_ID'] = player_team_bios.apply(lambda row: player_groups[int(row['PLAYER_ID'])][row.name], axis=1)"
   ]
  },
  {
   "cell_type": "markdown",
   "metadata": {},
   "source": [
    "We created a copy of player_team_bios and called it master_dataset, as this has all the data we will be using."
   ]
  },
  {
   "cell_type": "code",
   "execution_count": 35,
   "metadata": {},
   "outputs": [],
   "source": [
    "master_dataset = player_team_bios.copy()"
   ]
  },
  {
   "cell_type": "code",
   "execution_count": 36,
   "metadata": {},
   "outputs": [
    {
     "data": {
      "text/plain": [
       "Date\n",
       "2016-10-25      0\n",
       "2016-10-25      0\n",
       "2016-10-25      0\n",
       "2016-10-25      0\n",
       "2016-10-25      0\n",
       "             ... \n",
       "2019-04-10     47\n",
       "2019-04-10    128\n",
       "2019-04-10    240\n",
       "2019-04-10     68\n",
       "2019-04-10      0\n",
       "Name: PLAYER_GAME_ID, Length: 59294, dtype: int64"
      ]
     },
     "execution_count": 36,
     "metadata": {},
     "output_type": "execute_result"
    }
   ],
   "source": [
    "master_dataset['PLAYER_GAME_ID']"
   ]
  },
  {
   "cell_type": "code",
   "execution_count": 37,
   "metadata": {},
   "outputs": [],
   "source": [
    "master_dataset = master_dataset.reset_index()"
   ]
  },
  {
   "cell_type": "markdown",
   "metadata": {},
   "source": [
    "We replace 'Undrafted' with draft number 61 so that we can convert the column to integer dtype."
   ]
  },
  {
   "cell_type": "code",
   "execution_count": 38,
   "metadata": {},
   "outputs": [],
   "source": [
    "master_dataset['DRAFT_NUMBER'] = master_dataset['DRAFT_NUMBER'].replace('Undrafted', 61).astype(int)"
   ]
  },
  {
   "cell_type": "markdown",
   "metadata": {},
   "source": [
    "We drop columns we don't need."
   ]
  },
  {
   "cell_type": "code",
   "execution_count": 39,
   "metadata": {},
   "outputs": [],
   "source": [
    "player_found_dataset = master_dataset.drop([i for i in master_dataset.columns if str(master_dataset[i].dtype) not in ['int64', 'float64']], axis=1)\n",
    "\n",
    "cols_lst = ['PLAYER_ID', 'TEAM_ID', 'PLAYER_GAME_ID', 'Salary', 'BMI']\n",
    "for col in range(4,len(player_found_dataset.columns)-2):\n",
    "    \n",
    "    cols_lst.append(player_found_dataset.columns[col])\n",
    "cols_lst.append('FD PTS')\n",
    "cols_lst.append('BMI')\n",
    "player_found_dataset = player_found_dataset[cols_lst]"
   ]
  },
  {
   "cell_type": "markdown",
   "metadata": {},
   "source": [
    "Our default dataset contains features that we want to include in our feature dataset, but that we are not computing rolling averages for, or we include them in addition to their rolling averages."
   ]
  },
  {
   "cell_type": "code",
   "execution_count": 40,
   "metadata": {},
   "outputs": [],
   "source": [
    "default_dataset = player_found_dataset[['PLAYER_ID','TEAM_ID','PLAYER_GAME_ID', 'Salary', 'MIN', 'AGE', \\\n",
    "                                        'DRAFT_NUMBER', 'BMI', 'Home?']]"
   ]
  },
  {
   "cell_type": "markdown",
   "metadata": {},
   "source": [
    "The following columns are quantitative columns that we want to standardize."
   ]
  },
  {
   "cell_type": "code",
   "execution_count": 41,
   "metadata": {},
   "outputs": [],
   "source": [
    "toScaled = player_found_dataset[['Salary', 'MIN', 'PTS', 'FGM',\n",
    "       'FGA', 'FG_PCT', 'FG3M', 'FG3A', 'FG3_PCT', 'FTM', 'FTA', 'FT_PCT',\n",
    "       'OREB', 'DREB', 'REB', 'AST', 'STL', 'BLK', 'TOV', 'PF', 'PLUS_MINUS',\n",
    "       'Home?', 'AST_PCT', 'AST_RATIO', 'AST_TO', 'DEF_RATING', 'DREB_PCT',\n",
    "       'EFG_PCT', 'E_DEF_RATING', 'E_NET_RATING', 'E_OFF_RATING', 'E_PACE',\n",
    "       'NET_RATING', 'OFF_RATING', 'OREB_PCT', 'PACE', 'PACE_PER40', 'PIE',\n",
    "       'POSS', 'REB_PCT', 'TM_TOV_PCT', 'TS_PCT', 'FD PTS']]"
   ]
  },
  {
   "cell_type": "code",
   "execution_count": 42,
   "metadata": {},
   "outputs": [],
   "source": [
    "sc = StandardScaler()"
   ]
  },
  {
   "cell_type": "code",
   "execution_count": 43,
   "metadata": {},
   "outputs": [],
   "source": [
    "standardize_dataset = pd.DataFrame(sc.fit_transform(toScaled), columns = toScaled.columns)"
   ]
  },
  {
   "cell_type": "code",
   "execution_count": 44,
   "metadata": {},
   "outputs": [
    {
     "data": {
      "text/html": [
       "<div>\n",
       "<style scoped>\n",
       "    .dataframe tbody tr th:only-of-type {\n",
       "        vertical-align: middle;\n",
       "    }\n",
       "\n",
       "    .dataframe tbody tr th {\n",
       "        vertical-align: top;\n",
       "    }\n",
       "\n",
       "    .dataframe thead th {\n",
       "        text-align: right;\n",
       "    }\n",
       "</style>\n",
       "<table border=\"1\" class=\"dataframe\">\n",
       "  <thead>\n",
       "    <tr style=\"text-align: right;\">\n",
       "      <th></th>\n",
       "      <th>Salary</th>\n",
       "      <th>MIN</th>\n",
       "      <th>PTS</th>\n",
       "      <th>FGM</th>\n",
       "      <th>FGA</th>\n",
       "      <th>FG_PCT</th>\n",
       "      <th>FG3M</th>\n",
       "      <th>FG3A</th>\n",
       "      <th>FG3_PCT</th>\n",
       "      <th>FTM</th>\n",
       "      <th>...</th>\n",
       "      <th>OFF_RATING</th>\n",
       "      <th>OREB_PCT</th>\n",
       "      <th>PACE</th>\n",
       "      <th>PACE_PER40</th>\n",
       "      <th>PIE</th>\n",
       "      <th>POSS</th>\n",
       "      <th>REB_PCT</th>\n",
       "      <th>TM_TOV_PCT</th>\n",
       "      <th>TS_PCT</th>\n",
       "      <th>FD PTS</th>\n",
       "    </tr>\n",
       "  </thead>\n",
       "  <tbody>\n",
       "    <tr>\n",
       "      <th>0</th>\n",
       "      <td>1.768192</td>\n",
       "      <td>1.120657</td>\n",
       "      <td>3.348439</td>\n",
       "      <td>2.844921</td>\n",
       "      <td>1.915573</td>\n",
       "      <td>0.970551</td>\n",
       "      <td>1.955848</td>\n",
       "      <td>0.939361</td>\n",
       "      <td>1.145142</td>\n",
       "      <td>2.869423</td>\n",
       "      <td>...</td>\n",
       "      <td>1.268042</td>\n",
       "      <td>-0.658739</td>\n",
       "      <td>-1.398638</td>\n",
       "      <td>-1.398635</td>\n",
       "      <td>0.529455</td>\n",
       "      <td>-1.247863</td>\n",
       "      <td>-0.002659</td>\n",
       "      <td>-0.026219</td>\n",
       "      <td>1.811322</td>\n",
       "      <td>2.366390</td>\n",
       "    </tr>\n",
       "    <tr>\n",
       "      <th>1</th>\n",
       "      <td>1.022111</td>\n",
       "      <td>1.120657</td>\n",
       "      <td>1.711565</td>\n",
       "      <td>1.830122</td>\n",
       "      <td>1.915573</td>\n",
       "      <td>0.199117</td>\n",
       "      <td>-0.151485</td>\n",
       "      <td>-0.829271</td>\n",
       "      <td>2.310023</td>\n",
       "      <td>1.226999</td>\n",
       "      <td>...</td>\n",
       "      <td>1.820622</td>\n",
       "      <td>2.839378</td>\n",
       "      <td>0.379658</td>\n",
       "      <td>0.379670</td>\n",
       "      <td>1.107059</td>\n",
       "      <td>0.137966</td>\n",
       "      <td>2.539201</td>\n",
       "      <td>-0.052802</td>\n",
       "      <td>0.526179</td>\n",
       "      <td>1.778918</td>\n",
       "    </tr>\n",
       "    <tr>\n",
       "      <th>2</th>\n",
       "      <td>-0.917699</td>\n",
       "      <td>0.140708</td>\n",
       "      <td>0.956085</td>\n",
       "      <td>1.153588</td>\n",
       "      <td>0.777899</td>\n",
       "      <td>0.564262</td>\n",
       "      <td>1.253404</td>\n",
       "      <td>0.585635</td>\n",
       "      <td>0.910766</td>\n",
       "      <td>-0.415426</td>\n",
       "      <td>...</td>\n",
       "      <td>1.820622</td>\n",
       "      <td>2.839378</td>\n",
       "      <td>0.379658</td>\n",
       "      <td>0.379670</td>\n",
       "      <td>1.107059</td>\n",
       "      <td>0.137966</td>\n",
       "      <td>2.539201</td>\n",
       "      <td>-0.052802</td>\n",
       "      <td>0.526179</td>\n",
       "      <td>0.368985</td>\n",
       "    </tr>\n",
       "    <tr>\n",
       "      <th>3</th>\n",
       "      <td>-0.917699</td>\n",
       "      <td>-0.699248</td>\n",
       "      <td>-1.184442</td>\n",
       "      <td>-1.214277</td>\n",
       "      <td>-1.687062</td>\n",
       "      <td>2.770564</td>\n",
       "      <td>-0.151485</td>\n",
       "      <td>-0.829271</td>\n",
       "      <td>2.310023</td>\n",
       "      <td>-0.826032</td>\n",
       "      <td>...</td>\n",
       "      <td>1.820622</td>\n",
       "      <td>2.839378</td>\n",
       "      <td>0.379658</td>\n",
       "      <td>0.379670</td>\n",
       "      <td>1.107059</td>\n",
       "      <td>0.137966</td>\n",
       "      <td>2.539201</td>\n",
       "      <td>-0.052802</td>\n",
       "      <td>0.526179</td>\n",
       "      <td>-1.158443</td>\n",
       "    </tr>\n",
       "    <tr>\n",
       "      <th>4</th>\n",
       "      <td>-0.718744</td>\n",
       "      <td>-1.399212</td>\n",
       "      <td>-1.310356</td>\n",
       "      <td>-1.214277</td>\n",
       "      <td>-1.118225</td>\n",
       "      <td>-1.086606</td>\n",
       "      <td>-0.853930</td>\n",
       "      <td>-1.182998</td>\n",
       "      <td>NaN</td>\n",
       "      <td>-0.826032</td>\n",
       "      <td>...</td>\n",
       "      <td>1.820622</td>\n",
       "      <td>2.839378</td>\n",
       "      <td>0.379658</td>\n",
       "      <td>0.379670</td>\n",
       "      <td>1.107059</td>\n",
       "      <td>0.137966</td>\n",
       "      <td>2.539201</td>\n",
       "      <td>-0.052802</td>\n",
       "      <td>0.526179</td>\n",
       "      <td>-0.625802</td>\n",
       "    </tr>\n",
       "    <tr>\n",
       "      <th>...</th>\n",
       "      <td>...</td>\n",
       "      <td>...</td>\n",
       "      <td>...</td>\n",
       "      <td>...</td>\n",
       "      <td>...</td>\n",
       "      <td>...</td>\n",
       "      <td>...</td>\n",
       "      <td>...</td>\n",
       "      <td>...</td>\n",
       "      <td>...</td>\n",
       "      <td>...</td>\n",
       "      <td>...</td>\n",
       "      <td>...</td>\n",
       "      <td>...</td>\n",
       "      <td>...</td>\n",
       "      <td>...</td>\n",
       "      <td>...</td>\n",
       "      <td>...</td>\n",
       "      <td>...</td>\n",
       "      <td>...</td>\n",
       "      <td>...</td>\n",
       "    </tr>\n",
       "    <tr>\n",
       "      <th>59289</th>\n",
       "      <td>-0.917699</td>\n",
       "      <td>0.140708</td>\n",
       "      <td>0.326518</td>\n",
       "      <td>0.138789</td>\n",
       "      <td>0.967511</td>\n",
       "      <td>-0.659746</td>\n",
       "      <td>-0.151485</td>\n",
       "      <td>1.646815</td>\n",
       "      <td>-0.750851</td>\n",
       "      <td>0.816393</td>\n",
       "      <td>...</td>\n",
       "      <td>-0.354048</td>\n",
       "      <td>0.516628</td>\n",
       "      <td>1.861572</td>\n",
       "      <td>1.861591</td>\n",
       "      <td>0.740502</td>\n",
       "      <td>1.523795</td>\n",
       "      <td>0.899292</td>\n",
       "      <td>-0.823730</td>\n",
       "      <td>-1.220296</td>\n",
       "      <td>0.682303</td>\n",
       "    </tr>\n",
       "    <tr>\n",
       "      <th>59290</th>\n",
       "      <td>-0.669006</td>\n",
       "      <td>-1.259219</td>\n",
       "      <td>-0.806702</td>\n",
       "      <td>-0.537744</td>\n",
       "      <td>-0.928612</td>\n",
       "      <td>0.713406</td>\n",
       "      <td>-0.853930</td>\n",
       "      <td>-0.829271</td>\n",
       "      <td>-1.188118</td>\n",
       "      <td>-0.826032</td>\n",
       "      <td>...</td>\n",
       "      <td>0.644161</td>\n",
       "      <td>-0.196987</td>\n",
       "      <td>0.478453</td>\n",
       "      <td>0.479255</td>\n",
       "      <td>-0.370274</td>\n",
       "      <td>0.311195</td>\n",
       "      <td>-0.720119</td>\n",
       "      <td>-0.079386</td>\n",
       "      <td>0.641513</td>\n",
       "      <td>-0.664966</td>\n",
       "    </tr>\n",
       "    <tr>\n",
       "      <th>59291</th>\n",
       "      <td>2.215841</td>\n",
       "      <td>1.820621</td>\n",
       "      <td>3.852093</td>\n",
       "      <td>3.859721</td>\n",
       "      <td>2.863634</td>\n",
       "      <td>0.919122</td>\n",
       "      <td>1.955848</td>\n",
       "      <td>2.000541</td>\n",
       "      <td>0.365056</td>\n",
       "      <td>2.048211</td>\n",
       "      <td>...</td>\n",
       "      <td>1.250217</td>\n",
       "      <td>-1.190452</td>\n",
       "      <td>-1.102255</td>\n",
       "      <td>-1.102251</td>\n",
       "      <td>-0.214766</td>\n",
       "      <td>-1.074635</td>\n",
       "      <td>-0.761117</td>\n",
       "      <td>-1.488323</td>\n",
       "      <td>1.267608</td>\n",
       "      <td>2.530882</td>\n",
       "    </tr>\n",
       "    <tr>\n",
       "      <th>59292</th>\n",
       "      <td>-0.420312</td>\n",
       "      <td>0.420693</td>\n",
       "      <td>0.578345</td>\n",
       "      <td>0.477055</td>\n",
       "      <td>-0.359775</td>\n",
       "      <td>1.484840</td>\n",
       "      <td>2.658293</td>\n",
       "      <td>0.939361</td>\n",
       "      <td>1.725833</td>\n",
       "      <td>-0.826032</td>\n",
       "      <td>...</td>\n",
       "      <td>1.276955</td>\n",
       "      <td>2.797400</td>\n",
       "      <td>1.960366</td>\n",
       "      <td>1.961176</td>\n",
       "      <td>-0.037041</td>\n",
       "      <td>1.697024</td>\n",
       "      <td>1.698747</td>\n",
       "      <td>0.372537</td>\n",
       "      <td>0.048370</td>\n",
       "      <td>0.462980</td>\n",
       "    </tr>\n",
       "    <tr>\n",
       "      <th>59293</th>\n",
       "      <td>-0.917699</td>\n",
       "      <td>-1.679197</td>\n",
       "      <td>-1.310356</td>\n",
       "      <td>-1.214277</td>\n",
       "      <td>-1.497449</td>\n",
       "      <td>0.199117</td>\n",
       "      <td>-0.853930</td>\n",
       "      <td>-0.829271</td>\n",
       "      <td>-1.188118</td>\n",
       "      <td>-0.826032</td>\n",
       "      <td>...</td>\n",
       "      <td>1.927573</td>\n",
       "      <td>-0.029078</td>\n",
       "      <td>-0.509490</td>\n",
       "      <td>-0.509483</td>\n",
       "      <td>1.118166</td>\n",
       "      <td>-0.554949</td>\n",
       "      <td>0.304824</td>\n",
       "      <td>-1.833912</td>\n",
       "      <td>1.168751</td>\n",
       "      <td>-1.518759</td>\n",
       "    </tr>\n",
       "  </tbody>\n",
       "</table>\n",
       "<p>59294 rows × 43 columns</p>\n",
       "</div>"
      ],
      "text/plain": [
       "         Salary       MIN       PTS       FGM       FGA    FG_PCT      FG3M  \\\n",
       "0      1.768192  1.120657  3.348439  2.844921  1.915573  0.970551  1.955848   \n",
       "1      1.022111  1.120657  1.711565  1.830122  1.915573  0.199117 -0.151485   \n",
       "2     -0.917699  0.140708  0.956085  1.153588  0.777899  0.564262  1.253404   \n",
       "3     -0.917699 -0.699248 -1.184442 -1.214277 -1.687062  2.770564 -0.151485   \n",
       "4     -0.718744 -1.399212 -1.310356 -1.214277 -1.118225 -1.086606 -0.853930   \n",
       "...         ...       ...       ...       ...       ...       ...       ...   \n",
       "59289 -0.917699  0.140708  0.326518  0.138789  0.967511 -0.659746 -0.151485   \n",
       "59290 -0.669006 -1.259219 -0.806702 -0.537744 -0.928612  0.713406 -0.853930   \n",
       "59291  2.215841  1.820621  3.852093  3.859721  2.863634  0.919122  1.955848   \n",
       "59292 -0.420312  0.420693  0.578345  0.477055 -0.359775  1.484840  2.658293   \n",
       "59293 -0.917699 -1.679197 -1.310356 -1.214277 -1.497449  0.199117 -0.853930   \n",
       "\n",
       "           FG3A   FG3_PCT       FTM  ...  OFF_RATING  OREB_PCT      PACE  \\\n",
       "0      0.939361  1.145142  2.869423  ...    1.268042 -0.658739 -1.398638   \n",
       "1     -0.829271  2.310023  1.226999  ...    1.820622  2.839378  0.379658   \n",
       "2      0.585635  0.910766 -0.415426  ...    1.820622  2.839378  0.379658   \n",
       "3     -0.829271  2.310023 -0.826032  ...    1.820622  2.839378  0.379658   \n",
       "4     -1.182998       NaN -0.826032  ...    1.820622  2.839378  0.379658   \n",
       "...         ...       ...       ...  ...         ...       ...       ...   \n",
       "59289  1.646815 -0.750851  0.816393  ...   -0.354048  0.516628  1.861572   \n",
       "59290 -0.829271 -1.188118 -0.826032  ...    0.644161 -0.196987  0.478453   \n",
       "59291  2.000541  0.365056  2.048211  ...    1.250217 -1.190452 -1.102255   \n",
       "59292  0.939361  1.725833 -0.826032  ...    1.276955  2.797400  1.960366   \n",
       "59293 -0.829271 -1.188118 -0.826032  ...    1.927573 -0.029078 -0.509490   \n",
       "\n",
       "       PACE_PER40       PIE      POSS   REB_PCT  TM_TOV_PCT    TS_PCT  \\\n",
       "0       -1.398635  0.529455 -1.247863 -0.002659   -0.026219  1.811322   \n",
       "1        0.379670  1.107059  0.137966  2.539201   -0.052802  0.526179   \n",
       "2        0.379670  1.107059  0.137966  2.539201   -0.052802  0.526179   \n",
       "3        0.379670  1.107059  0.137966  2.539201   -0.052802  0.526179   \n",
       "4        0.379670  1.107059  0.137966  2.539201   -0.052802  0.526179   \n",
       "...           ...       ...       ...       ...         ...       ...   \n",
       "59289    1.861591  0.740502  1.523795  0.899292   -0.823730 -1.220296   \n",
       "59290    0.479255 -0.370274  0.311195 -0.720119   -0.079386  0.641513   \n",
       "59291   -1.102251 -0.214766 -1.074635 -0.761117   -1.488323  1.267608   \n",
       "59292    1.961176 -0.037041  1.697024  1.698747    0.372537  0.048370   \n",
       "59293   -0.509483  1.118166 -0.554949  0.304824   -1.833912  1.168751   \n",
       "\n",
       "         FD PTS  \n",
       "0      2.366390  \n",
       "1      1.778918  \n",
       "2      0.368985  \n",
       "3     -1.158443  \n",
       "4     -0.625802  \n",
       "...         ...  \n",
       "59289  0.682303  \n",
       "59290 -0.664966  \n",
       "59291  2.530882  \n",
       "59292  0.462980  \n",
       "59293 -1.518759  \n",
       "\n",
       "[59294 rows x 43 columns]"
      ]
     },
     "execution_count": 44,
     "metadata": {},
     "output_type": "execute_result"
    }
   ],
   "source": [
    "standardize_dataset"
   ]
  },
  {
   "cell_type": "code",
   "execution_count": 45,
   "metadata": {},
   "outputs": [],
   "source": [
    "standardize_dataset['PLAYER_GAME_ID'] = player_found_dataset['PLAYER_GAME_ID']\n",
    "standardize_dataset['Position'] = master_dataset['Position']"
   ]
  },
  {
   "cell_type": "markdown",
   "metadata": {},
   "source": [
    "total_rolling_avgs_col takes in a dataframe, column name, and the size by which to average by, and uses the Pandas rolling function to create rolling averages of the last 'avg_size' games for the given column name, grouped by 'PLAYER_ID'."
   ]
  },
  {
   "cell_type": "code",
   "execution_count": 46,
   "metadata": {},
   "outputs": [],
   "source": [
    "def total_rolling_avgs_col(df, col_name, avg_size):\n",
    "    rolling_avgs = df.groupby('PLAYER_ID')[col_name].rolling(avg_size).mean()\n",
    "    for i in range(0, avg_size):\n",
    "        rolling_avgs = rolling_avgs.fillna(df.groupby('PLAYER_ID')[col_name].rolling(i).mean())\n",
    "    return rolling_avgs"
   ]
  },
  {
   "cell_type": "markdown",
   "metadata": {},
   "source": [
    "roll_avgs_col_maker essentially adds the output of total_rolling_avgs_col to the total dataframe."
   ]
  },
  {
   "cell_type": "code",
   "execution_count": 47,
   "metadata": {},
   "outputs": [],
   "source": [
    "def roll_avgs_col_maker(df, col_name, avg_size):\n",
    "    new_df = pd.DataFrame(df[['PLAYER_ID', 'PLAYER_GAME_ID']])\n",
    "    rolling_avgs = total_rolling_avgs_col(df, col_name, avg_size)\n",
    "    indices = [rolling_avgs.index[i][1] for i in range(len(rolling_avgs.index))]\n",
    "    new_df['{}_LAST_{}'.format(col_name, avg_size)] = pd.Series(dict(zip(indices, rolling_avgs.values))).sort_index()\n",
    "    return new_df"
   ]
  },
  {
   "cell_type": "markdown",
   "metadata": {},
   "source": [
    "We start creating our rolling averages dataset by appling the above function on player_found_dataset, the 'PTS' column, and with a lagging average size of 5.  This could also be used on the standardized dataset."
   ]
  },
  {
   "cell_type": "code",
   "execution_count": 48,
   "metadata": {},
   "outputs": [],
   "source": [
    "roll_avgs_dataset = roll_avgs_col_maker(player_found_dataset, 'PTS', 5)"
   ]
  },
  {
   "cell_type": "markdown",
   "metadata": {},
   "source": [
    "When the player has not yet playerd avg_size amount of games yet, we take the rolling averages of however many games they have played."
   ]
  },
  {
   "cell_type": "code",
   "execution_count": 49,
   "metadata": {},
   "outputs": [
    {
     "data": {
      "text/html": [
       "<div>\n",
       "<style scoped>\n",
       "    .dataframe tbody tr th:only-of-type {\n",
       "        vertical-align: middle;\n",
       "    }\n",
       "\n",
       "    .dataframe tbody tr th {\n",
       "        vertical-align: top;\n",
       "    }\n",
       "\n",
       "    .dataframe thead th {\n",
       "        text-align: right;\n",
       "    }\n",
       "</style>\n",
       "<table border=\"1\" class=\"dataframe\">\n",
       "  <thead>\n",
       "    <tr style=\"text-align: right;\">\n",
       "      <th></th>\n",
       "      <th>PLAYER_ID</th>\n",
       "      <th>PLAYER_GAME_ID</th>\n",
       "      <th>PTS_LAST_5</th>\n",
       "    </tr>\n",
       "  </thead>\n",
       "  <tbody>\n",
       "    <tr>\n",
       "      <th>0</th>\n",
       "      <td>203081</td>\n",
       "      <td>0</td>\n",
       "      <td>39.0</td>\n",
       "    </tr>\n",
       "    <tr>\n",
       "      <th>1</th>\n",
       "      <td>200746</td>\n",
       "      <td>0</td>\n",
       "      <td>26.0</td>\n",
       "    </tr>\n",
       "    <tr>\n",
       "      <th>2</th>\n",
       "      <td>203613</td>\n",
       "      <td>0</td>\n",
       "      <td>20.0</td>\n",
       "    </tr>\n",
       "    <tr>\n",
       "      <th>3</th>\n",
       "      <td>203937</td>\n",
       "      <td>0</td>\n",
       "      <td>3.0</td>\n",
       "    </tr>\n",
       "    <tr>\n",
       "      <th>4</th>\n",
       "      <td>203473</td>\n",
       "      <td>0</td>\n",
       "      <td>2.0</td>\n",
       "    </tr>\n",
       "  </tbody>\n",
       "</table>\n",
       "</div>"
      ],
      "text/plain": [
       "   PLAYER_ID  PLAYER_GAME_ID  PTS_LAST_5\n",
       "0     203081               0        39.0\n",
       "1     200746               0        26.0\n",
       "2     203613               0        20.0\n",
       "3     203937               0         3.0\n",
       "4     203473               0         2.0"
      ]
     },
     "execution_count": 49,
     "metadata": {},
     "output_type": "execute_result"
    }
   ],
   "source": [
    "roll_avgs_dataset.head()"
   ]
  },
  {
   "cell_type": "markdown",
   "metadata": {},
   "source": [
    "avg_cols is the columns we decide to generate rolling averages for."
   ]
  },
  {
   "cell_type": "code",
   "execution_count": 50,
   "metadata": {},
   "outputs": [],
   "source": [
    "avg_cols = ['PACE', 'PIE', 'OFF_RATING', 'REB', 'AST', 'STL', 'BLK', 'TOV', 'FD PTS']"
   ]
  },
  {
   "cell_type": "code",
   "execution_count": 51,
   "metadata": {},
   "outputs": [],
   "source": [
    "for i in avg_cols:\n",
    "    newdf = roll_avgs_col_maker(player_found_dataset, i, 5)\n",
    "    roll_avgs_dataset = roll_avgs_dataset.merge(newdf, on = [\"PLAYER_ID\", \"PLAYER_GAME_ID\"])"
   ]
  },
  {
   "cell_type": "markdown",
   "metadata": {},
   "source": [
    "We found rolling averagews for 'FD PTS' and 'PTS' of the last 5 games to be the most predictive features, so we add rolling averages of the last 10 games to the feature dataset. "
   ]
  },
  {
   "cell_type": "code",
   "execution_count": 52,
   "metadata": {},
   "outputs": [],
   "source": [
    "for i in ['FD PTS', 'PTS']:\n",
    "    newdf = roll_avgs_col_maker(player_found_dataset, i, 10)\n",
    "    roll_avgs_dataset = roll_avgs_dataset.merge(newdf, on = [\"PLAYER_ID\", \"PLAYER_GAME_ID\"])"
   ]
  },
  {
   "cell_type": "markdown",
   "metadata": {},
   "source": [
    "Our y, or the label we are trying to predict, is the actual number of FanDuel points scored by the player on that date."
   ]
  },
  {
   "cell_type": "code",
   "execution_count": 53,
   "metadata": {},
   "outputs": [],
   "source": [
    "y = player_found_dataset['FD PTS']"
   ]
  },
  {
   "cell_type": "markdown",
   "metadata": {},
   "source": [
    "m_default merges our default set of features with our rolling average features."
   ]
  },
  {
   "cell_type": "code",
   "execution_count": 54,
   "metadata": {},
   "outputs": [],
   "source": [
    "m_default = default_dataset.merge(roll_avgs_dataset, \n",
    "                                  on = [\"PLAYER_ID\", \"PLAYER_GAME_ID\"]).drop(['PLAYER_GAME_ID'], axis = 1)"
   ]
  },
  {
   "cell_type": "code",
   "execution_count": 55,
   "metadata": {},
   "outputs": [
    {
     "data": {
      "text/html": [
       "<div>\n",
       "<style scoped>\n",
       "    .dataframe tbody tr th:only-of-type {\n",
       "        vertical-align: middle;\n",
       "    }\n",
       "\n",
       "    .dataframe tbody tr th {\n",
       "        vertical-align: top;\n",
       "    }\n",
       "\n",
       "    .dataframe thead th {\n",
       "        text-align: right;\n",
       "    }\n",
       "</style>\n",
       "<table border=\"1\" class=\"dataframe\">\n",
       "  <thead>\n",
       "    <tr style=\"text-align: right;\">\n",
       "      <th></th>\n",
       "      <th>PLAYER_ID</th>\n",
       "      <th>TEAM_ID</th>\n",
       "      <th>Salary</th>\n",
       "      <th>MIN</th>\n",
       "      <th>AGE</th>\n",
       "      <th>DRAFT_NUMBER</th>\n",
       "      <th>BMI</th>\n",
       "      <th>BMI</th>\n",
       "      <th>Home?</th>\n",
       "      <th>PTS_LAST_5</th>\n",
       "      <th>...</th>\n",
       "      <th>PIE_LAST_5</th>\n",
       "      <th>OFF_RATING_LAST_5</th>\n",
       "      <th>REB_LAST_5</th>\n",
       "      <th>AST_LAST_5</th>\n",
       "      <th>STL_LAST_5</th>\n",
       "      <th>BLK_LAST_5</th>\n",
       "      <th>TOV_LAST_5</th>\n",
       "      <th>FD PTS_LAST_5</th>\n",
       "      <th>FD PTS_LAST_10</th>\n",
       "      <th>PTS_LAST_10</th>\n",
       "    </tr>\n",
       "  </thead>\n",
       "  <tbody>\n",
       "    <tr>\n",
       "      <th>0</th>\n",
       "      <td>203081</td>\n",
       "      <td>1610612757</td>\n",
       "      <td>8900</td>\n",
       "      <td>35</td>\n",
       "      <td>26.0</td>\n",
       "      <td>6</td>\n",
       "      <td>24.370667</td>\n",
       "      <td>24.370667</td>\n",
       "      <td>1</td>\n",
       "      <td>39.0</td>\n",
       "      <td>...</td>\n",
       "      <td>0.548</td>\n",
       "      <td>122.8</td>\n",
       "      <td>9.0</td>\n",
       "      <td>6.0</td>\n",
       "      <td>0.0</td>\n",
       "      <td>0.0</td>\n",
       "      <td>4.0</td>\n",
       "      <td>54.8</td>\n",
       "      <td>54.8</td>\n",
       "      <td>39.0</td>\n",
       "    </tr>\n",
       "    <tr>\n",
       "      <th>1</th>\n",
       "      <td>200746</td>\n",
       "      <td>1610612759</td>\n",
       "      <td>7400</td>\n",
       "      <td>35</td>\n",
       "      <td>31.0</td>\n",
       "      <td>2</td>\n",
       "      <td>26.532153</td>\n",
       "      <td>26.532153</td>\n",
       "      <td>0</td>\n",
       "      <td>26.0</td>\n",
       "      <td>...</td>\n",
       "      <td>0.600</td>\n",
       "      <td>129.0</td>\n",
       "      <td>14.0</td>\n",
       "      <td>3.0</td>\n",
       "      <td>1.0</td>\n",
       "      <td>0.0</td>\n",
       "      <td>2.0</td>\n",
       "      <td>47.3</td>\n",
       "      <td>47.3</td>\n",
       "      <td>26.0</td>\n",
       "    </tr>\n",
       "    <tr>\n",
       "      <th>2</th>\n",
       "      <td>203613</td>\n",
       "      <td>1610612759</td>\n",
       "      <td>3500</td>\n",
       "      <td>28</td>\n",
       "      <td>27.0</td>\n",
       "      <td>61</td>\n",
       "      <td>22.532051</td>\n",
       "      <td>22.532051</td>\n",
       "      <td>0</td>\n",
       "      <td>20.0</td>\n",
       "      <td>...</td>\n",
       "      <td>0.600</td>\n",
       "      <td>129.0</td>\n",
       "      <td>4.0</td>\n",
       "      <td>3.0</td>\n",
       "      <td>0.0</td>\n",
       "      <td>1.0</td>\n",
       "      <td>2.0</td>\n",
       "      <td>29.3</td>\n",
       "      <td>29.3</td>\n",
       "      <td>20.0</td>\n",
       "    </tr>\n",
       "    <tr>\n",
       "      <th>3</th>\n",
       "      <td>203937</td>\n",
       "      <td>1610612759</td>\n",
       "      <td>3500</td>\n",
       "      <td>22</td>\n",
       "      <td>23.0</td>\n",
       "      <td>30</td>\n",
       "      <td>24.644109</td>\n",
       "      <td>24.644109</td>\n",
       "      <td>0</td>\n",
       "      <td>3.0</td>\n",
       "      <td>...</td>\n",
       "      <td>0.600</td>\n",
       "      <td>129.0</td>\n",
       "      <td>4.0</td>\n",
       "      <td>0.0</td>\n",
       "      <td>1.0</td>\n",
       "      <td>0.0</td>\n",
       "      <td>0.0</td>\n",
       "      <td>9.8</td>\n",
       "      <td>9.8</td>\n",
       "      <td>3.0</td>\n",
       "    </tr>\n",
       "    <tr>\n",
       "      <th>4</th>\n",
       "      <td>203473</td>\n",
       "      <td>1610612759</td>\n",
       "      <td>3900</td>\n",
       "      <td>17</td>\n",
       "      <td>27.0</td>\n",
       "      <td>61</td>\n",
       "      <td>24.409722</td>\n",
       "      <td>24.409722</td>\n",
       "      <td>0</td>\n",
       "      <td>2.0</td>\n",
       "      <td>...</td>\n",
       "      <td>0.600</td>\n",
       "      <td>129.0</td>\n",
       "      <td>8.0</td>\n",
       "      <td>0.0</td>\n",
       "      <td>1.0</td>\n",
       "      <td>2.0</td>\n",
       "      <td>1.0</td>\n",
       "      <td>16.6</td>\n",
       "      <td>16.6</td>\n",
       "      <td>2.0</td>\n",
       "    </tr>\n",
       "  </tbody>\n",
       "</table>\n",
       "<p>5 rows × 21 columns</p>\n",
       "</div>"
      ],
      "text/plain": [
       "   PLAYER_ID     TEAM_ID  Salary  MIN   AGE  DRAFT_NUMBER        BMI  \\\n",
       "0     203081  1610612757    8900   35  26.0             6  24.370667   \n",
       "1     200746  1610612759    7400   35  31.0             2  26.532153   \n",
       "2     203613  1610612759    3500   28  27.0            61  22.532051   \n",
       "3     203937  1610612759    3500   22  23.0            30  24.644109   \n",
       "4     203473  1610612759    3900   17  27.0            61  24.409722   \n",
       "\n",
       "         BMI  Home?  PTS_LAST_5  ...  PIE_LAST_5  OFF_RATING_LAST_5  \\\n",
       "0  24.370667      1        39.0  ...       0.548              122.8   \n",
       "1  26.532153      0        26.0  ...       0.600              129.0   \n",
       "2  22.532051      0        20.0  ...       0.600              129.0   \n",
       "3  24.644109      0         3.0  ...       0.600              129.0   \n",
       "4  24.409722      0         2.0  ...       0.600              129.0   \n",
       "\n",
       "   REB_LAST_5  AST_LAST_5  STL_LAST_5  BLK_LAST_5  TOV_LAST_5  FD PTS_LAST_5  \\\n",
       "0         9.0         6.0         0.0         0.0         4.0           54.8   \n",
       "1        14.0         3.0         1.0         0.0         2.0           47.3   \n",
       "2         4.0         3.0         0.0         1.0         2.0           29.3   \n",
       "3         4.0         0.0         1.0         0.0         0.0            9.8   \n",
       "4         8.0         0.0         1.0         2.0         1.0           16.6   \n",
       "\n",
       "   FD PTS_LAST_10  PTS_LAST_10  \n",
       "0            54.8         39.0  \n",
       "1            47.3         26.0  \n",
       "2            29.3         20.0  \n",
       "3             9.8          3.0  \n",
       "4            16.6          2.0  \n",
       "\n",
       "[5 rows x 21 columns]"
      ]
     },
     "execution_count": 55,
     "metadata": {},
     "output_type": "execute_result"
    }
   ],
   "source": [
    "m_default.head()"
   ]
  },
  {
   "cell_type": "markdown",
   "metadata": {},
   "source": [
    "We dropped all rows with a salary of 0, as this is not a possible value in FanDuel."
   ]
  },
  {
   "cell_type": "code",
   "execution_count": 56,
   "metadata": {},
   "outputs": [],
   "source": [
    "y = y.drop(m_default[m_default['Salary'] == 0].index).reset_index(drop=True)\n",
    "m_default = m_default.drop(m_default[m_default['Salary'] == 0].index).reset_index(drop=True)"
   ]
  },
  {
   "cell_type": "code",
   "execution_count": 57,
   "metadata": {},
   "outputs": [
    {
     "data": {
      "text/plain": [
       "True"
      ]
     },
     "execution_count": 57,
     "metadata": {},
     "output_type": "execute_result"
    }
   ],
   "source": [
    "len(y) == len(m_default)"
   ]
  },
  {
   "cell_type": "markdown",
   "metadata": {},
   "source": [
    "We also add position to the feature dataset, which we implement using one hot encoding."
   ]
  },
  {
   "cell_type": "code",
   "execution_count": 58,
   "metadata": {},
   "outputs": [],
   "source": [
    "m_default['Position'] = master_dataset['Position']"
   ]
  },
  {
   "cell_type": "code",
   "execution_count": 59,
   "metadata": {},
   "outputs": [],
   "source": [
    "oneHot = pd.get_dummies(m_default[['Position']])"
   ]
  },
  {
   "cell_type": "code",
   "execution_count": 60,
   "metadata": {},
   "outputs": [],
   "source": [
    "m_default['Position_C'] = oneHot['Position_C']\n",
    "m_default['Position_PF'] = oneHot['Position_PF']\n",
    "m_default['Position_PG'] = oneHot['Position_PG']\n",
    "m_default['Position_SF'] = oneHot['Position_SF']\n",
    "m_default['Position_SG'] = oneHot['Position_SG']"
   ]
  },
  {
   "cell_type": "code",
   "execution_count": 61,
   "metadata": {},
   "outputs": [
    {
     "data": {
      "text/plain": [
       "Index(['PLAYER_ID', 'TEAM_ID', 'Salary', 'MIN', 'AGE', 'DRAFT_NUMBER', 'BMI',\n",
       "       'BMI', 'Home?', 'PTS_LAST_5', 'PACE_LAST_5', 'PIE_LAST_5',\n",
       "       'OFF_RATING_LAST_5', 'REB_LAST_5', 'AST_LAST_5', 'STL_LAST_5',\n",
       "       'BLK_LAST_5', 'TOV_LAST_5', 'FD PTS_LAST_5', 'FD PTS_LAST_10',\n",
       "       'PTS_LAST_10', 'Position', 'Position_C', 'Position_PF', 'Position_PG',\n",
       "       'Position_SF', 'Position_SG'],\n",
       "      dtype='object')"
      ]
     },
     "execution_count": 61,
     "metadata": {},
     "output_type": "execute_result"
    }
   ],
   "source": [
    "m_default.columns"
   ]
  },
  {
   "cell_type": "code",
   "execution_count": 62,
   "metadata": {},
   "outputs": [],
   "source": [
    "m_default = m_default.drop('Position', axis =1)"
   ]
  },
  {
   "cell_type": "code",
   "execution_count": 63,
   "metadata": {},
   "outputs": [],
   "source": [
    "from sklearn.metrics import mean_squared_error"
   ]
  },
  {
   "cell_type": "markdown",
   "metadata": {},
   "source": [
    "For our final feature dataset, we dropped columns with a low r-squared score with y."
   ]
  },
  {
   "cell_type": "code",
   "execution_count": 64,
   "metadata": {},
   "outputs": [],
   "source": [
    "m_default = m_default.reset_index(drop=True)"
   ]
  },
  {
   "cell_type": "markdown",
   "metadata": {},
   "source": [
    "The following for loop showing the r-squared score as well as the mean squared error (MSE) for predicting FanDuel points based solely on each column of our feature dataset.  We use this loop to find which features are most linearly correlated with FanDuel points based on their r-squared score and how low their MSE is."
   ]
  },
  {
   "cell_type": "code",
   "execution_count": 65,
   "metadata": {},
   "outputs": [
    {
     "name": "stdout",
     "output_type": "stream",
     "text": [
      "PLAYER_ID\n",
      " score:  0.010428136425597923\n",
      " mse:  161.81293617935023\n",
      "TEAM_ID\n",
      " score:  -0.00021635925602270234\n",
      " mse:  156.9669081298596\n",
      "Salary\n",
      " score:  0.4912624294042709\n",
      " mse:  84.31504193598396\n",
      "MIN\n",
      " score:  0.4625944112749498\n",
      " mse:  88.271292587936\n",
      "AGE\n",
      " score:  0.0013593356851154814\n",
      " mse:  166.72990123607102\n",
      "DRAFT_NUMBER\n",
      " score:  0.06137818817137264\n",
      " mse:  149.3540639014759\n",
      "BMI\n",
      " score:  0.010196426556653204\n",
      " mse:  157.26423239171007\n",
      "BMI\n",
      " score:  0.01382700894543909\n",
      " mse:  159.2424838028837\n",
      "Home?\n",
      " score:  0.001076173184574869\n",
      " mse:  164.32061104221444\n",
      "PTS_LAST_5\n",
      " score:  0.4879578614018948\n",
      " mse:  84.43849953430934\n",
      "PACE_LAST_5\n",
      " score:  0.007873973110835153\n",
      " mse:  159.9766975819276\n",
      "PIE_LAST_5\n",
      " score:  0.01129556509569063\n",
      " mse:  165.23789492305036\n",
      "OFF_RATING_LAST_5\n",
      " score:  0.011534577319169403\n",
      " mse:  158.5607505809341\n",
      "REB_LAST_5\n",
      " score:  0.22529136079239143\n",
      " mse:  131.49154430746992\n",
      "AST_LAST_5\n",
      " score:  0.21675890336230183\n",
      " mse:  128.93629056254554\n",
      "STL_LAST_5\n",
      " score:  0.11161391821460609\n",
      " mse:  149.61785773363806\n",
      "BLK_LAST_5\n",
      " score:  0.07915241672778583\n",
      " mse:  149.3085695105405\n",
      "TOV_LAST_5\n",
      " score:  0.23048290249398384\n",
      " mse:  128.70116656436605\n",
      "FD PTS_LAST_5\n",
      " score:  0.6151229284276886\n",
      " mse:  61.965727782842926\n",
      "FD PTS_LAST_10\n",
      " score:  0.5791249899720405\n",
      " mse:  68.2366702673283\n",
      "PTS_LAST_10\n",
      " score:  0.44084276861990057\n",
      " mse:  90.64117859685982\n",
      "Position_C\n",
      " score:  -0.00020126241018947333\n",
      " mse:  166.13794044014062\n",
      "Position_PF\n",
      " score:  -0.00013114682349013584\n",
      " mse:  162.09250962635937\n",
      "Position_PG\n",
      " score:  -6.008324575690338e-05\n",
      " mse:  161.5553941922643\n",
      "Position_SF\n",
      " score:  -0.00032919461695457564\n",
      " mse:  162.26234550925324\n",
      "Position_SG\n",
      " score:  -0.0002617295436104783\n",
      " mse:  161.42124429899746\n"
     ]
    }
   ],
   "source": [
    "for i in m_default.columns:\n",
    "    X_train, X_test, y_train, y_test = train_test_split(m_default[[i]], y, test_size = 0.10)\n",
    "    lr = LinearRegression()\n",
    "    lr.fit(X_train, y_train)\n",
    "    pred = lr.predict(X_test)\n",
    "    print(i) \n",
    "    print(\" score: \", lr.score(X_test, y_test))\n",
    "    print(\" mse: \", mean_squared_error(pred, y_test))"
   ]
  },
  {
   "cell_type": "markdown",
   "metadata": {},
   "source": [
    "We decide to drop the rows with the lowest score and highest MSE."
   ]
  },
  {
   "cell_type": "code",
   "execution_count": 66,
   "metadata": {},
   "outputs": [
    {
     "data": {
      "text/plain": [
       "Index(['PLAYER_ID', 'TEAM_ID', 'Salary', 'MIN', 'AGE', 'DRAFT_NUMBER', 'BMI',\n",
       "       'BMI', 'Home?', 'PTS_LAST_5', 'PACE_LAST_5', 'PIE_LAST_5',\n",
       "       'OFF_RATING_LAST_5', 'REB_LAST_5', 'AST_LAST_5', 'STL_LAST_5',\n",
       "       'BLK_LAST_5', 'TOV_LAST_5', 'FD PTS_LAST_5', 'FD PTS_LAST_10',\n",
       "       'PTS_LAST_10', 'Position_C', 'Position_PF', 'Position_PG',\n",
       "       'Position_SF', 'Position_SG'],\n",
       "      dtype='object')"
      ]
     },
     "execution_count": 66,
     "metadata": {},
     "output_type": "execute_result"
    }
   ],
   "source": [
    "m_default.columns"
   ]
  },
  {
   "cell_type": "code",
   "execution_count": 67,
   "metadata": {},
   "outputs": [],
   "source": [
    "m_default_final = m_default.drop(['PLAYER_ID', 'TEAM_ID', 'AGE'\n",
    "                             , 'PACE_LAST_5', 'OFF_RATING_LAST_5'], axis = 1)"
   ]
  },
  {
   "cell_type": "code",
   "execution_count": 68,
   "metadata": {},
   "outputs": [],
   "source": [
    "#m_default2.drop('S')"
   ]
  },
  {
   "cell_type": "code",
   "execution_count": 69,
   "metadata": {},
   "outputs": [],
   "source": [
    "# nominal_feat = ['PLAYER_ID', 'TEAM_ID']\n",
    "# pl = Pipeline(steps = [('onehot', OneHotEncoder(sparse = True)), ('lr', LinearRegression())])\n",
    "# col = ColumnTransformer(transformers = [('pl', pl, nominal_feat)])\n",
    "# final = Pipeline(steps=[('pre', col)])\n",
    "# final.fit(m_default2)\n",
    "# final.transform(m_default2).toarray()"
   ]
  },
  {
   "cell_type": "code",
   "execution_count": null,
   "metadata": {},
   "outputs": [],
   "source": []
  },
  {
   "cell_type": "code",
   "execution_count": 70,
   "metadata": {},
   "outputs": [
    {
     "data": {
      "text/plain": [
       "'X_train = m_default2[bool_arr == False]\\ny_train = y[bool_arr == False]\\nX_test = m_default2[bool_arr]\\ny_test = y[bool_arr]'"
      ]
     },
     "execution_count": 70,
     "metadata": {},
     "output_type": "execute_result"
    }
   ],
   "source": [
    "'''X_train = m_default2[bool_arr == False]\n",
    "y_train = y[bool_arr == False]\n",
    "X_test = m_default2[bool_arr]\n",
    "y_test = y[bool_arr]'''"
   ]
  },
  {
   "cell_type": "markdown",
   "metadata": {},
   "source": [
    "We then split our data into train and test sets, and train our model using linear regression."
   ]
  },
  {
   "cell_type": "code",
   "execution_count": 71,
   "metadata": {},
   "outputs": [],
   "source": [
    "X_train, X_test, y_train, y_test = train_test_split(m_default_final, y, test_size = 0.1)"
   ]
  },
  {
   "cell_type": "code",
   "execution_count": 72,
   "metadata": {},
   "outputs": [],
   "source": [
    "lr = LinearRegression(fit_intercept=True)"
   ]
  },
  {
   "cell_type": "code",
   "execution_count": 73,
   "metadata": {
    "scrolled": true
   },
   "outputs": [
    {
     "data": {
      "text/plain": [
       "LinearRegression(copy_X=True, fit_intercept=True, n_jobs=None, normalize=False)"
      ]
     },
     "execution_count": 73,
     "metadata": {},
     "output_type": "execute_result"
    }
   ],
   "source": [
    "lr.fit(X_train, y_train)"
   ]
  },
  {
   "cell_type": "code",
   "execution_count": 74,
   "metadata": {},
   "outputs": [],
   "source": [
    "pred = lr.predict(X_test)"
   ]
  },
  {
   "cell_type": "markdown",
   "metadata": {},
   "source": [
    "Our predictions have a r-squared score of 0.71919"
   ]
  },
  {
   "cell_type": "code",
   "execution_count": 75,
   "metadata": {},
   "outputs": [
    {
     "data": {
      "text/plain": [
       "0.710337138666606"
      ]
     },
     "execution_count": 75,
     "metadata": {},
     "output_type": "execute_result"
    }
   ],
   "source": [
    "lr.score(X_test, y_test)"
   ]
  },
  {
   "cell_type": "code",
   "execution_count": 76,
   "metadata": {},
   "outputs": [],
   "source": [
    "box_df = pd.DataFrame({'Predicted':pred, 'Actual':y_test})"
   ]
  },
  {
   "cell_type": "markdown",
   "metadata": {},
   "source": [
    "The MSE of our predictions are 48.523.  This means that, on average, our predicted FanDuel points were off by the square root of 48.523, or 6.97 FD points."
   ]
  },
  {
   "cell_type": "code",
   "execution_count": 77,
   "metadata": {
    "scrolled": true
   },
   "outputs": [
    {
     "data": {
      "text/plain": [
       "47.701214868819555"
      ]
     },
     "execution_count": 77,
     "metadata": {},
     "output_type": "execute_result"
    }
   ],
   "source": [
    "mean_squared_error(pred, y_test)"
   ]
  },
  {
   "cell_type": "markdown",
   "metadata": {},
   "source": [
    "**Data Visualizations**"
   ]
  },
  {
   "cell_type": "code",
   "execution_count": 78,
   "metadata": {},
   "outputs": [],
   "source": [
    "import seaborn as sns"
   ]
  },
  {
   "cell_type": "code",
   "execution_count": 79,
   "metadata": {},
   "outputs": [
    {
     "name": "stderr",
     "output_type": "stream",
     "text": [
      "/anaconda3/lib/python3.7/site-packages/ipykernel_launcher.py:2: UserWarning: Boolean Series key will be reindexed to match DataFrame index.\n",
      "  \n",
      "/anaconda3/lib/python3.7/site-packages/ipykernel_launcher.py:4: UserWarning: Boolean Series key will be reindexed to match DataFrame index.\n",
      "  after removing the cwd from sys.path.\n"
     ]
    }
   ],
   "source": [
    "bool_arr = master_dataset['Date'] == '2018-12-27'\n",
    "X_train = m_default_final[bool_arr == False]\n",
    "y_train = y[bool_arr == False]\n",
    "X_test = m_default_final[bool_arr]\n",
    "y_test = y[bool_arr]"
   ]
  },
  {
   "cell_type": "code",
   "execution_count": 80,
   "metadata": {},
   "outputs": [
    {
     "data": {
      "text/plain": [
       "0.7504123172597683"
      ]
     },
     "execution_count": 80,
     "metadata": {},
     "output_type": "execute_result"
    }
   ],
   "source": [
    "lr = LinearRegression(fit_intercept=True)\n",
    "lr.fit(X_train, y_train)\n",
    "pred = lr.predict(X_test)\n",
    "lr.score(X_test, y_test)"
   ]
  },
  {
   "cell_type": "code",
   "execution_count": 81,
   "metadata": {},
   "outputs": [
    {
     "data": {
      "text/plain": [
       "56.57042012280901"
      ]
     },
     "execution_count": 81,
     "metadata": {},
     "output_type": "execute_result"
    }
   ],
   "source": [
    "mean_squared_error(pred, y_test)"
   ]
  },
  {
   "cell_type": "markdown",
   "metadata": {},
   "source": [
    "Below we have plotted predicted fan duel points, designated by the x axis, along with actual fanduel points scored, designated by the y axis. For example, if it was predicted that a player would scored 20 points, he would actually score 10 FanDuel points. "
   ]
  },
  {
   "cell_type": "code",
   "execution_count": 82,
   "metadata": {
    "scrolled": true
   },
   "outputs": [
    {
     "data": {
      "image/png": "[encoded data removed]",
      "text/plain": [
       "<Figure size 432x288 with 1 Axes>"
      ]
     },
     "metadata": {
      "needs_background": "light"
     },
     "output_type": "display_data"
    }
   ],
   "source": [
    "sns.residplot(pred, y_test);"
   ]
  },
  {
   "cell_type": "code",
   "execution_count": 83,
   "metadata": {},
   "outputs": [
    {
     "data": {
      "text/html": [
       "<div>\n",
       "<style scoped>\n",
       "    .dataframe tbody tr th:only-of-type {\n",
       "        vertical-align: middle;\n",
       "    }\n",
       "\n",
       "    .dataframe tbody tr th {\n",
       "        vertical-align: top;\n",
       "    }\n",
       "\n",
       "    .dataframe thead th {\n",
       "        text-align: right;\n",
       "    }\n",
       "</style>\n",
       "<table border=\"1\" class=\"dataframe\">\n",
       "  <thead>\n",
       "    <tr style=\"text-align: right;\">\n",
       "      <th></th>\n",
       "      <th>PLAYER_ID</th>\n",
       "      <th>TEAM_ID</th>\n",
       "      <th>PLAYER_GAME_ID</th>\n",
       "      <th>Salary</th>\n",
       "      <th>BMI</th>\n",
       "      <th>MIN</th>\n",
       "      <th>PTS</th>\n",
       "      <th>FGM</th>\n",
       "      <th>FGA</th>\n",
       "      <th>FG_PCT</th>\n",
       "      <th>...</th>\n",
       "      <th>POSS</th>\n",
       "      <th>REB_PCT</th>\n",
       "      <th>TM_TOV_PCT</th>\n",
       "      <th>TS_PCT</th>\n",
       "      <th>AGE</th>\n",
       "      <th>DRAFT_NUMBER</th>\n",
       "      <th>PLAYER_HEIGHT_INCHES</th>\n",
       "      <th>PLAYER_WEIGHT</th>\n",
       "      <th>FD PTS</th>\n",
       "      <th>BMI</th>\n",
       "    </tr>\n",
       "    <tr>\n",
       "      <th>AGE</th>\n",
       "      <th></th>\n",
       "      <th></th>\n",
       "      <th></th>\n",
       "      <th></th>\n",
       "      <th></th>\n",
       "      <th></th>\n",
       "      <th></th>\n",
       "      <th></th>\n",
       "      <th></th>\n",
       "      <th></th>\n",
       "      <th></th>\n",
       "      <th></th>\n",
       "      <th></th>\n",
       "      <th></th>\n",
       "      <th></th>\n",
       "      <th></th>\n",
       "      <th></th>\n",
       "      <th></th>\n",
       "      <th></th>\n",
       "      <th></th>\n",
       "      <th></th>\n",
       "    </tr>\n",
       "  </thead>\n",
       "  <tbody>\n",
       "    <tr>\n",
       "      <th>19.0</th>\n",
       "      <td>1.628224e+06</td>\n",
       "      <td>1.610613e+09</td>\n",
       "      <td>31.087879</td>\n",
       "      <td>4139.393939</td>\n",
       "      <td>22.616931</td>\n",
       "      <td>26.427273</td>\n",
       "      <td>9.690909</td>\n",
       "      <td>3.621212</td>\n",
       "      <td>9.030303</td>\n",
       "      <td>0.393545</td>\n",
       "      <td>...</td>\n",
       "      <td>99.845455</td>\n",
       "      <td>0.497509</td>\n",
       "      <td>0.147445</td>\n",
       "      <td>0.540033</td>\n",
       "      <td>19.0</td>\n",
       "      <td>7.406061</td>\n",
       "      <td>80.524242</td>\n",
       "      <td>208.815152</td>\n",
       "      <td>18.941818</td>\n",
       "      <td>22.616931</td>\n",
       "    </tr>\n",
       "    <tr>\n",
       "      <th>20.0</th>\n",
       "      <td>1.628353e+06</td>\n",
       "      <td>1.610613e+09</td>\n",
       "      <td>36.461918</td>\n",
       "      <td>5178.465753</td>\n",
       "      <td>23.563782</td>\n",
       "      <td>27.028493</td>\n",
       "      <td>12.095342</td>\n",
       "      <td>4.527671</td>\n",
       "      <td>10.100274</td>\n",
       "      <td>0.446004</td>\n",
       "      <td>...</td>\n",
       "      <td>100.351781</td>\n",
       "      <td>0.495642</td>\n",
       "      <td>0.146180</td>\n",
       "      <td>0.551167</td>\n",
       "      <td>20.0</td>\n",
       "      <td>11.310137</td>\n",
       "      <td>79.298082</td>\n",
       "      <td>211.164384</td>\n",
       "      <td>24.014356</td>\n",
       "      <td>23.563782</td>\n",
       "    </tr>\n",
       "    <tr>\n",
       "      <th>21.0</th>\n",
       "      <td>1.516608e+06</td>\n",
       "      <td>1.610613e+09</td>\n",
       "      <td>49.196078</td>\n",
       "      <td>5255.673417</td>\n",
       "      <td>23.868592</td>\n",
       "      <td>26.557056</td>\n",
       "      <td>11.951141</td>\n",
       "      <td>4.544519</td>\n",
       "      <td>9.747027</td>\n",
       "      <td>0.466344</td>\n",
       "      <td>...</td>\n",
       "      <td>99.947927</td>\n",
       "      <td>0.501305</td>\n",
       "      <td>0.144508</td>\n",
       "      <td>0.553556</td>\n",
       "      <td>21.0</td>\n",
       "      <td>14.606557</td>\n",
       "      <td>80.094503</td>\n",
       "      <td>218.121826</td>\n",
       "      <td>24.276406</td>\n",
       "      <td>23.868592</td>\n",
       "    </tr>\n",
       "    <tr>\n",
       "      <th>22.0</th>\n",
       "      <td>1.348230e+06</td>\n",
       "      <td>1.610613e+09</td>\n",
       "      <td>58.734659</td>\n",
       "      <td>5343.906655</td>\n",
       "      <td>24.205503</td>\n",
       "      <td>27.041775</td>\n",
       "      <td>12.695477</td>\n",
       "      <td>4.745895</td>\n",
       "      <td>10.229329</td>\n",
       "      <td>0.462277</td>\n",
       "      <td>...</td>\n",
       "      <td>99.361855</td>\n",
       "      <td>0.499741</td>\n",
       "      <td>0.145270</td>\n",
       "      <td>0.554827</td>\n",
       "      <td>22.0</td>\n",
       "      <td>19.636416</td>\n",
       "      <td>79.449726</td>\n",
       "      <td>217.735811</td>\n",
       "      <td>24.703140</td>\n",
       "      <td>24.205503</td>\n",
       "    </tr>\n",
       "    <tr>\n",
       "      <th>23.0</th>\n",
       "      <td>1.080843e+06</td>\n",
       "      <td>1.610613e+09</td>\n",
       "      <td>65.322181</td>\n",
       "      <td>5198.166819</td>\n",
       "      <td>24.519611</td>\n",
       "      <td>26.372365</td>\n",
       "      <td>11.833639</td>\n",
       "      <td>4.500229</td>\n",
       "      <td>9.575160</td>\n",
       "      <td>0.467442</td>\n",
       "      <td>...</td>\n",
       "      <td>99.250229</td>\n",
       "      <td>0.498820</td>\n",
       "      <td>0.144347</td>\n",
       "      <td>0.550816</td>\n",
       "      <td>23.0</td>\n",
       "      <td>21.189505</td>\n",
       "      <td>79.597388</td>\n",
       "      <td>221.469982</td>\n",
       "      <td>24.307470</td>\n",
       "      <td>24.519611</td>\n",
       "    </tr>\n",
       "  </tbody>\n",
       "</table>\n",
       "<p>5 rows × 52 columns</p>\n",
       "</div>"
      ],
      "text/plain": [
       "         PLAYER_ID       TEAM_ID  PLAYER_GAME_ID       Salary        BMI  \\\n",
       "AGE                                                                        \n",
       "19.0  1.628224e+06  1.610613e+09       31.087879  4139.393939  22.616931   \n",
       "20.0  1.628353e+06  1.610613e+09       36.461918  5178.465753  23.563782   \n",
       "21.0  1.516608e+06  1.610613e+09       49.196078  5255.673417  23.868592   \n",
       "22.0  1.348230e+06  1.610613e+09       58.734659  5343.906655  24.205503   \n",
       "23.0  1.080843e+06  1.610613e+09       65.322181  5198.166819  24.519611   \n",
       "\n",
       "            MIN        PTS       FGM        FGA    FG_PCT  ...        POSS  \\\n",
       "AGE                                                        ...               \n",
       "19.0  26.427273   9.690909  3.621212   9.030303  0.393545  ...   99.845455   \n",
       "20.0  27.028493  12.095342  4.527671  10.100274  0.446004  ...  100.351781   \n",
       "21.0  26.557056  11.951141  4.544519   9.747027  0.466344  ...   99.947927   \n",
       "22.0  27.041775  12.695477  4.745895  10.229329  0.462277  ...   99.361855   \n",
       "23.0  26.372365  11.833639  4.500229   9.575160  0.467442  ...   99.250229   \n",
       "\n",
       "       REB_PCT  TM_TOV_PCT    TS_PCT   AGE  DRAFT_NUMBER  \\\n",
       "AGE                                                        \n",
       "19.0  0.497509    0.147445  0.540033  19.0      7.406061   \n",
       "20.0  0.495642    0.146180  0.551167  20.0     11.310137   \n",
       "21.0  0.501305    0.144508  0.553556  21.0     14.606557   \n",
       "22.0  0.499741    0.145270  0.554827  22.0     19.636416   \n",
       "23.0  0.498820    0.144347  0.550816  23.0     21.189505   \n",
       "\n",
       "      PLAYER_HEIGHT_INCHES  PLAYER_WEIGHT     FD PTS        BMI  \n",
       "AGE                                                              \n",
       "19.0             80.524242     208.815152  18.941818  22.616931  \n",
       "20.0             79.298082     211.164384  24.014356  23.563782  \n",
       "21.0             80.094503     218.121826  24.276406  23.868592  \n",
       "22.0             79.449726     217.735811  24.703140  24.205503  \n",
       "23.0             79.597388     221.469982  24.307470  24.519611  \n",
       "\n",
       "[5 rows x 52 columns]"
      ]
     },
     "execution_count": 83,
     "metadata": {},
     "output_type": "execute_result"
    }
   ],
   "source": [
    "years = player_found_dataset.groupby('AGE').apply(np.mean)\n",
    "years.head()"
   ]
  },
  {
   "cell_type": "code",
   "execution_count": 84,
   "metadata": {},
   "outputs": [],
   "source": [
    "m_default_graph = m_default"
   ]
  },
  {
   "cell_type": "markdown",
   "metadata": {},
   "source": [
    "We wanted to see if a player's age had an effect on how well they perform and how many FanDuel points they earn. We plotted this information below to visualize the trend. It's noticed that players between the ages of 25 and 30 earn the most points on average."
   ]
  },
  {
   "cell_type": "code",
   "execution_count": 85,
   "metadata": {},
   "outputs": [
    {
     "data": {
      "text/plain": [
       "Text(0, 0.5, 'FD Points')"
      ]
     },
     "execution_count": 85,
     "metadata": {},
     "output_type": "execute_result"
    },
    {
     "data": {
      "image/png": "[encoded data removed]",
      "text/plain": [
       "<Figure size 432x288 with 1 Axes>"
      ]
     },
     "metadata": {
      "needs_background": "light"
     },
     "output_type": "display_data"
    }
   ],
   "source": [
    "%matplotlib inline\n",
    "import matplotlib.pyplot as plt\n",
    "\n",
    "agemean = years.plot('AGE','FD PTS')\n",
    "\n",
    "agemean.set_title('Average FD Points by Age')\n",
    "\n",
    "agemean.set_xlabel('Age')\n",
    "\n",
    "agemean.set_ylabel('FD Points')"
   ]
  },
  {
   "cell_type": "markdown",
   "metadata": {},
   "source": [
    "Salaries are an important factor when drafting players in FanDuel. We wanted to explore if age had any effect to the draft cost of a player. We plotted this information below and learned that the most expensive players are also between 25-30 years old. It could very well be this is because this same age range earns the most points. "
   ]
  },
  {
   "cell_type": "code",
   "execution_count": 86,
   "metadata": {
    "scrolled": true
   },
   "outputs": [
    {
     "data": {
      "text/plain": [
       "Text(0, 0.5, 'Salary')"
      ]
     },
     "execution_count": 86,
     "metadata": {},
     "output_type": "execute_result"
    },
    {
     "data": {
      "image/png": "[encoded data removed]",
      "text/plain": [
       "<Figure size 432x288 with 1 Axes>"
      ]
     },
     "metadata": {
      "needs_background": "light"
     },
     "output_type": "display_data"
    }
   ],
   "source": [
    "agemean = years.plot('AGE','Salary')\n",
    "\n",
    "agemean.set_title('Average FD Salary by Age')\n",
    "\n",
    "agemean.set_xlabel('Age')\n",
    "\n",
    "agemean.set_ylabel('Salary')"
   ]
  },
  {
   "cell_type": "code",
   "execution_count": 87,
   "metadata": {},
   "outputs": [
    {
     "data": {
      "text/html": [
       "<div>\n",
       "<style scoped>\n",
       "    .dataframe tbody tr th:only-of-type {\n",
       "        vertical-align: middle;\n",
       "    }\n",
       "\n",
       "    .dataframe tbody tr th {\n",
       "        vertical-align: top;\n",
       "    }\n",
       "\n",
       "    .dataframe thead th {\n",
       "        text-align: right;\n",
       "    }\n",
       "</style>\n",
       "<table border=\"1\" class=\"dataframe\">\n",
       "  <thead>\n",
       "    <tr style=\"text-align: right;\">\n",
       "      <th></th>\n",
       "      <th>PLAYER_ID</th>\n",
       "      <th>TEAM_ID</th>\n",
       "      <th>PLAYER_GAME_ID</th>\n",
       "      <th>Salary</th>\n",
       "      <th>BMI</th>\n",
       "      <th>MIN</th>\n",
       "      <th>PTS</th>\n",
       "      <th>FGM</th>\n",
       "      <th>FGA</th>\n",
       "      <th>FG_PCT</th>\n",
       "      <th>...</th>\n",
       "      <th>POSS</th>\n",
       "      <th>REB_PCT</th>\n",
       "      <th>TM_TOV_PCT</th>\n",
       "      <th>TS_PCT</th>\n",
       "      <th>AGE</th>\n",
       "      <th>DRAFT_NUMBER</th>\n",
       "      <th>PLAYER_HEIGHT_INCHES</th>\n",
       "      <th>PLAYER_WEIGHT</th>\n",
       "      <th>FD PTS</th>\n",
       "      <th>BMI</th>\n",
       "    </tr>\n",
       "    <tr>\n",
       "      <th>DRAFT_NUMBER</th>\n",
       "      <th></th>\n",
       "      <th></th>\n",
       "      <th></th>\n",
       "      <th></th>\n",
       "      <th></th>\n",
       "      <th></th>\n",
       "      <th></th>\n",
       "      <th></th>\n",
       "      <th></th>\n",
       "      <th></th>\n",
       "      <th></th>\n",
       "      <th></th>\n",
       "      <th></th>\n",
       "      <th></th>\n",
       "      <th></th>\n",
       "      <th></th>\n",
       "      <th></th>\n",
       "      <th></th>\n",
       "      <th></th>\n",
       "      <th></th>\n",
       "      <th></th>\n",
       "    </tr>\n",
       "  </thead>\n",
       "  <tbody>\n",
       "    <tr>\n",
       "      <th>1</th>\n",
       "      <td>5.164603e+05</td>\n",
       "      <td>1.610613e+09</td>\n",
       "      <td>91.933102</td>\n",
       "      <td>8851.585728</td>\n",
       "      <td>25.050929</td>\n",
       "      <td>33.934093</td>\n",
       "      <td>21.367691</td>\n",
       "      <td>8.033697</td>\n",
       "      <td>16.068385</td>\n",
       "      <td>0.504848</td>\n",
       "      <td>...</td>\n",
       "      <td>99.737364</td>\n",
       "      <td>0.500054</td>\n",
       "      <td>0.140418</td>\n",
       "      <td>0.561889</td>\n",
       "      <td>26.197225</td>\n",
       "      <td>1.0</td>\n",
       "      <td>80.391972</td>\n",
       "      <td>230.916254</td>\n",
       "      <td>40.801090</td>\n",
       "      <td>25.050929</td>\n",
       "    </tr>\n",
       "    <tr>\n",
       "      <th>2</th>\n",
       "      <td>5.269648e+05</td>\n",
       "      <td>1.610613e+09</td>\n",
       "      <td>88.433685</td>\n",
       "      <td>6249.242772</td>\n",
       "      <td>24.758420</td>\n",
       "      <td>29.357503</td>\n",
       "      <td>14.773749</td>\n",
       "      <td>5.618173</td>\n",
       "      <td>11.809087</td>\n",
       "      <td>0.475578</td>\n",
       "      <td>...</td>\n",
       "      <td>99.858651</td>\n",
       "      <td>0.501673</td>\n",
       "      <td>0.139846</td>\n",
       "      <td>0.558005</td>\n",
       "      <td>26.842129</td>\n",
       "      <td>2.0</td>\n",
       "      <td>80.180817</td>\n",
       "      <td>226.637907</td>\n",
       "      <td>28.759293</td>\n",
       "      <td>24.758420</td>\n",
       "    </tr>\n",
       "    <tr>\n",
       "      <th>3</th>\n",
       "      <td>4.839132e+05</td>\n",
       "      <td>1.610613e+09</td>\n",
       "      <td>91.150608</td>\n",
       "      <td>7167.795139</td>\n",
       "      <td>25.090214</td>\n",
       "      <td>30.251302</td>\n",
       "      <td>17.589410</td>\n",
       "      <td>6.349826</td>\n",
       "      <td>13.293403</td>\n",
       "      <td>0.484848</td>\n",
       "      <td>...</td>\n",
       "      <td>99.068142</td>\n",
       "      <td>0.501393</td>\n",
       "      <td>0.143108</td>\n",
       "      <td>0.562354</td>\n",
       "      <td>26.697049</td>\n",
       "      <td>3.0</td>\n",
       "      <td>80.384115</td>\n",
       "      <td>230.995660</td>\n",
       "      <td>33.204253</td>\n",
       "      <td>25.090214</td>\n",
       "    </tr>\n",
       "    <tr>\n",
       "      <th>4</th>\n",
       "      <td>3.611854e+05</td>\n",
       "      <td>1.610613e+09</td>\n",
       "      <td>79.874297</td>\n",
       "      <td>6534.798160</td>\n",
       "      <td>23.777014</td>\n",
       "      <td>28.719469</td>\n",
       "      <td>14.568217</td>\n",
       "      <td>5.312724</td>\n",
       "      <td>11.853347</td>\n",
       "      <td>0.454704</td>\n",
       "      <td>...</td>\n",
       "      <td>98.910577</td>\n",
       "      <td>0.497959</td>\n",
       "      <td>0.141574</td>\n",
       "      <td>0.555725</td>\n",
       "      <td>26.754216</td>\n",
       "      <td>4.0</td>\n",
       "      <td>78.826776</td>\n",
       "      <td>210.314768</td>\n",
       "      <td>29.791926</td>\n",
       "      <td>23.777014</td>\n",
       "    </tr>\n",
       "    <tr>\n",
       "      <th>5</th>\n",
       "      <td>4.635980e+05</td>\n",
       "      <td>1.610613e+09</td>\n",
       "      <td>80.463530</td>\n",
       "      <td>5558.581355</td>\n",
       "      <td>24.856791</td>\n",
       "      <td>26.063444</td>\n",
       "      <td>12.785067</td>\n",
       "      <td>4.582650</td>\n",
       "      <td>10.209322</td>\n",
       "      <td>0.443775</td>\n",
       "      <td>...</td>\n",
       "      <td>99.151489</td>\n",
       "      <td>0.498230</td>\n",
       "      <td>0.143255</td>\n",
       "      <td>0.555228</td>\n",
       "      <td>28.533017</td>\n",
       "      <td>5.0</td>\n",
       "      <td>78.736729</td>\n",
       "      <td>220.152784</td>\n",
       "      <td>26.006603</td>\n",
       "      <td>24.856791</td>\n",
       "    </tr>\n",
       "    <tr>\n",
       "      <th>...</th>\n",
       "      <td>...</td>\n",
       "      <td>...</td>\n",
       "      <td>...</td>\n",
       "      <td>...</td>\n",
       "      <td>...</td>\n",
       "      <td>...</td>\n",
       "      <td>...</td>\n",
       "      <td>...</td>\n",
       "      <td>...</td>\n",
       "      <td>...</td>\n",
       "      <td>...</td>\n",
       "      <td>...</td>\n",
       "      <td>...</td>\n",
       "      <td>...</td>\n",
       "      <td>...</td>\n",
       "      <td>...</td>\n",
       "      <td>...</td>\n",
       "      <td>...</td>\n",
       "      <td>...</td>\n",
       "      <td>...</td>\n",
       "      <td>...</td>\n",
       "    </tr>\n",
       "    <tr>\n",
       "      <th>57</th>\n",
       "      <td>6.339286e+04</td>\n",
       "      <td>1.610613e+09</td>\n",
       "      <td>81.416129</td>\n",
       "      <td>4588.064516</td>\n",
       "      <td>24.185302</td>\n",
       "      <td>24.554839</td>\n",
       "      <td>8.967742</td>\n",
       "      <td>3.570968</td>\n",
       "      <td>7.119355</td>\n",
       "      <td>0.494071</td>\n",
       "      <td>...</td>\n",
       "      <td>97.980645</td>\n",
       "      <td>0.506645</td>\n",
       "      <td>0.142600</td>\n",
       "      <td>0.562274</td>\n",
       "      <td>35.922581</td>\n",
       "      <td>57.0</td>\n",
       "      <td>81.096774</td>\n",
       "      <td>226.677419</td>\n",
       "      <td>21.271613</td>\n",
       "      <td>24.185302</td>\n",
       "    </tr>\n",
       "    <tr>\n",
       "      <th>58</th>\n",
       "      <td>1.025405e+06</td>\n",
       "      <td>1.610613e+09</td>\n",
       "      <td>12.807692</td>\n",
       "      <td>3576.923077</td>\n",
       "      <td>24.122961</td>\n",
       "      <td>20.980769</td>\n",
       "      <td>8.423077</td>\n",
       "      <td>3.096154</td>\n",
       "      <td>7.307692</td>\n",
       "      <td>0.427519</td>\n",
       "      <td>...</td>\n",
       "      <td>100.423077</td>\n",
       "      <td>0.506731</td>\n",
       "      <td>0.135615</td>\n",
       "      <td>0.549846</td>\n",
       "      <td>25.596154</td>\n",
       "      <td>58.0</td>\n",
       "      <td>77.576923</td>\n",
       "      <td>206.788462</td>\n",
       "      <td>15.507692</td>\n",
       "      <td>24.122961</td>\n",
       "    </tr>\n",
       "    <tr>\n",
       "      <th>59</th>\n",
       "      <td>1.628417e+06</td>\n",
       "      <td>1.610613e+09</td>\n",
       "      <td>8.000000</td>\n",
       "      <td>3588.235294</td>\n",
       "      <td>24.165625</td>\n",
       "      <td>22.352941</td>\n",
       "      <td>5.823529</td>\n",
       "      <td>2.352941</td>\n",
       "      <td>5.294118</td>\n",
       "      <td>0.439118</td>\n",
       "      <td>...</td>\n",
       "      <td>95.352941</td>\n",
       "      <td>0.482588</td>\n",
       "      <td>0.134235</td>\n",
       "      <td>0.527176</td>\n",
       "      <td>25.000000</td>\n",
       "      <td>59.0</td>\n",
       "      <td>80.000000</td>\n",
       "      <td>220.000000</td>\n",
       "      <td>14.041176</td>\n",
       "      <td>24.165625</td>\n",
       "    </tr>\n",
       "    <tr>\n",
       "      <th>60</th>\n",
       "      <td>5.864139e+05</td>\n",
       "      <td>1.610613e+09</td>\n",
       "      <td>46.807692</td>\n",
       "      <td>6778.846154</td>\n",
       "      <td>26.282913</td>\n",
       "      <td>29.833333</td>\n",
       "      <td>20.115385</td>\n",
       "      <td>6.487179</td>\n",
       "      <td>14.692308</td>\n",
       "      <td>0.439936</td>\n",
       "      <td>...</td>\n",
       "      <td>100.153846</td>\n",
       "      <td>0.494244</td>\n",
       "      <td>0.143212</td>\n",
       "      <td>0.571692</td>\n",
       "      <td>27.307692</td>\n",
       "      <td>60.0</td>\n",
       "      <td>71.153846</td>\n",
       "      <td>188.500000</td>\n",
       "      <td>30.228205</td>\n",
       "      <td>26.282913</td>\n",
       "    </tr>\n",
       "    <tr>\n",
       "      <th>61</th>\n",
       "      <td>7.852072e+05</td>\n",
       "      <td>1.610613e+09</td>\n",
       "      <td>59.456003</td>\n",
       "      <td>4083.891570</td>\n",
       "      <td>24.399578</td>\n",
       "      <td>24.253477</td>\n",
       "      <td>9.043287</td>\n",
       "      <td>3.322452</td>\n",
       "      <td>7.488930</td>\n",
       "      <td>0.443292</td>\n",
       "      <td>...</td>\n",
       "      <td>98.830968</td>\n",
       "      <td>0.497281</td>\n",
       "      <td>0.142784</td>\n",
       "      <td>0.550419</td>\n",
       "      <td>27.188618</td>\n",
       "      <td>61.0</td>\n",
       "      <td>77.616662</td>\n",
       "      <td>209.674993</td>\n",
       "      <td>18.837425</td>\n",
       "      <td>24.399578</td>\n",
       "    </tr>\n",
       "  </tbody>\n",
       "</table>\n",
       "<p>61 rows × 52 columns</p>\n",
       "</div>"
      ],
      "text/plain": [
       "                 PLAYER_ID       TEAM_ID  PLAYER_GAME_ID       Salary  \\\n",
       "DRAFT_NUMBER                                                            \n",
       "1             5.164603e+05  1.610613e+09       91.933102  8851.585728   \n",
       "2             5.269648e+05  1.610613e+09       88.433685  6249.242772   \n",
       "3             4.839132e+05  1.610613e+09       91.150608  7167.795139   \n",
       "4             3.611854e+05  1.610613e+09       79.874297  6534.798160   \n",
       "5             4.635980e+05  1.610613e+09       80.463530  5558.581355   \n",
       "...                    ...           ...             ...          ...   \n",
       "57            6.339286e+04  1.610613e+09       81.416129  4588.064516   \n",
       "58            1.025405e+06  1.610613e+09       12.807692  3576.923077   \n",
       "59            1.628417e+06  1.610613e+09        8.000000  3588.235294   \n",
       "60            5.864139e+05  1.610613e+09       46.807692  6778.846154   \n",
       "61            7.852072e+05  1.610613e+09       59.456003  4083.891570   \n",
       "\n",
       "                    BMI        MIN        PTS       FGM        FGA    FG_PCT  \\\n",
       "DRAFT_NUMBER                                                                   \n",
       "1             25.050929  33.934093  21.367691  8.033697  16.068385  0.504848   \n",
       "2             24.758420  29.357503  14.773749  5.618173  11.809087  0.475578   \n",
       "3             25.090214  30.251302  17.589410  6.349826  13.293403  0.484848   \n",
       "4             23.777014  28.719469  14.568217  5.312724  11.853347  0.454704   \n",
       "5             24.856791  26.063444  12.785067  4.582650  10.209322  0.443775   \n",
       "...                 ...        ...        ...       ...        ...       ...   \n",
       "57            24.185302  24.554839   8.967742  3.570968   7.119355  0.494071   \n",
       "58            24.122961  20.980769   8.423077  3.096154   7.307692  0.427519   \n",
       "59            24.165625  22.352941   5.823529  2.352941   5.294118  0.439118   \n",
       "60            26.282913  29.833333  20.115385  6.487179  14.692308  0.439936   \n",
       "61            24.399578  24.253477   9.043287  3.322452   7.488930  0.443292   \n",
       "\n",
       "              ...        POSS   REB_PCT  TM_TOV_PCT    TS_PCT        AGE  \\\n",
       "DRAFT_NUMBER  ...                                                          \n",
       "1             ...   99.737364  0.500054    0.140418  0.561889  26.197225   \n",
       "2             ...   99.858651  0.501673    0.139846  0.558005  26.842129   \n",
       "3             ...   99.068142  0.501393    0.143108  0.562354  26.697049   \n",
       "4             ...   98.910577  0.497959    0.141574  0.555725  26.754216   \n",
       "5             ...   99.151489  0.498230    0.143255  0.555228  28.533017   \n",
       "...           ...         ...       ...         ...       ...        ...   \n",
       "57            ...   97.980645  0.506645    0.142600  0.562274  35.922581   \n",
       "58            ...  100.423077  0.506731    0.135615  0.549846  25.596154   \n",
       "59            ...   95.352941  0.482588    0.134235  0.527176  25.000000   \n",
       "60            ...  100.153846  0.494244    0.143212  0.571692  27.307692   \n",
       "61            ...   98.830968  0.497281    0.142784  0.550419  27.188618   \n",
       "\n",
       "              DRAFT_NUMBER  PLAYER_HEIGHT_INCHES  PLAYER_WEIGHT     FD PTS  \\\n",
       "DRAFT_NUMBER                                                                 \n",
       "1                      1.0             80.391972     230.916254  40.801090   \n",
       "2                      2.0             80.180817     226.637907  28.759293   \n",
       "3                      3.0             80.384115     230.995660  33.204253   \n",
       "4                      4.0             78.826776     210.314768  29.791926   \n",
       "5                      5.0             78.736729     220.152784  26.006603   \n",
       "...                    ...                   ...            ...        ...   \n",
       "57                    57.0             81.096774     226.677419  21.271613   \n",
       "58                    58.0             77.576923     206.788462  15.507692   \n",
       "59                    59.0             80.000000     220.000000  14.041176   \n",
       "60                    60.0             71.153846     188.500000  30.228205   \n",
       "61                    61.0             77.616662     209.674993  18.837425   \n",
       "\n",
       "                    BMI  \n",
       "DRAFT_NUMBER             \n",
       "1             25.050929  \n",
       "2             24.758420  \n",
       "3             25.090214  \n",
       "4             23.777014  \n",
       "5             24.856791  \n",
       "...                 ...  \n",
       "57            24.185302  \n",
       "58            24.122961  \n",
       "59            24.165625  \n",
       "60            26.282913  \n",
       "61            24.399578  \n",
       "\n",
       "[61 rows x 52 columns]"
      ]
     },
     "execution_count": 87,
     "metadata": {},
     "output_type": "execute_result"
    }
   ],
   "source": [
    "DraftPick = player_found_dataset.groupby('DRAFT_NUMBER').apply(np.mean)\n",
    "DraftPick"
   ]
  },
  {
   "cell_type": "markdown",
   "metadata": {},
   "source": [
    "Next we wanted to visualize if higher drafted players cost more. From our data, it tends to be the case that the number 1 pick is more expensive, however there doesn't seem to be a significant relationship between draft pick positions and salaries. "
   ]
  },
  {
   "cell_type": "code",
   "execution_count": 88,
   "metadata": {},
   "outputs": [],
   "source": [
    "DraftPick['DRAFT_NUMBER'] = DraftPick['DRAFT_NUMBER'].astype(int)"
   ]
  },
  {
   "cell_type": "code",
   "execution_count": 89,
   "metadata": {},
   "outputs": [
    {
     "data": {
      "text/plain": [
       "Text(0, 0.5, 'Salary')"
      ]
     },
     "execution_count": 89,
     "metadata": {},
     "output_type": "execute_result"
    },
    {
     "data": {
      "image/png": "[encoded data removed]",
      "text/plain": [
       "<Figure size 1800x720 with 1 Axes>"
      ]
     },
     "metadata": {
      "needs_background": "light"
     },
     "output_type": "display_data"
    }
   ],
   "source": [
    "DraftMean = DraftPick.plot.bar('DRAFT_NUMBER','Salary', figsize = (25,10))\n",
    "DraftMean.set_title('Average FD Salary by Draft Pick', fontsize = 20)\n",
    "DraftMean.set_xlabel('DRAFT_NUMBER', fontsize = 20)\n",
    "DraftMean.set_ylabel('Salary', fontsize = 20)"
   ]
  },
  {
   "cell_type": "markdown",
   "metadata": {},
   "source": [
    "Another area we chose to explore was the impact a player's height has on the FanDuel points earned. Because different positions suite different heights of players, there doesn't seem to be a clear trend between height and points earned. "
   ]
  },
  {
   "cell_type": "code",
   "execution_count": 90,
   "metadata": {
    "scrolled": true
   },
   "outputs": [
    {
     "data": {
      "text/plain": [
       "Text(26.200000000000017, 0.5, 'Points')"
      ]
     },
     "execution_count": 90,
     "metadata": {},
     "output_type": "execute_result"
    },
    {
     "data": {
      "image/png": "[encoded data removed]",
      "text/plain": [
       "<Figure size 1800x720 with 1 Axes>"
      ]
     },
     "metadata": {
      "needs_background": "light"
     },
     "output_type": "display_data"
    }
   ],
   "source": [
    "Height = player_found_dataset.groupby('PLAYER_HEIGHT_INCHES').apply(np.mean)\n",
    "HeightGraph = Height.plot.bar('PLAYER_HEIGHT_INCHES','FD PTS', figsize = (25,10))\n",
    "DraftMean.set_title('Average Points by Height', fontsize = 20)\n",
    "DraftMean.set_xlabel('Height', fontsize = 20)\n",
    "DraftMean.set_ylabel('Points', fontsize = 20)\n"
   ]
  },
  {
   "cell_type": "markdown",
   "metadata": {},
   "source": [
    "Next, we wanted to see whether expensive players are actually worth their salary. By viewing the relationship between points scored in the last 10 games and corresponding salary, we see that there is a clear relationship between the two variables. This indicates that more expensive players tend to earn the most FanDuel points. "
   ]
  },
  {
   "cell_type": "code",
   "execution_count": 91,
   "metadata": {},
   "outputs": [
    {
     "data": {
      "text/plain": [
       "Text(0, 0.5, 'Last 10 FD Points')"
      ]
     },
     "execution_count": 91,
     "metadata": {},
     "output_type": "execute_result"
    },
    {
     "data": {
      "image/png": "[encoded data removed]",
      "text/plain": [
       "<Figure size 2160x1080 with 1 Axes>"
      ]
     },
     "metadata": {
      "needs_background": "light"
     },
     "output_type": "display_data"
    }
   ],
   "source": [
    "SalaryMean = m_default.groupby('Salary').apply(np.mean)\n"
   ]
  },
  {
   "cell_type": "code",
   "execution_count": 92,
   "metadata": {
    "scrolled": true
   },
   "outputs": [
    {
     "data": {
      "text/html": [
       "<div>\n",
       "<style scoped>\n",
       "    .dataframe tbody tr th:only-of-type {\n",
       "        vertical-align: middle;\n",
       "    }\n",
       "\n",
       "    .dataframe tbody tr th {\n",
       "        vertical-align: top;\n",
       "    }\n",
       "\n",
       "    .dataframe thead th {\n",
       "        text-align: right;\n",
       "    }\n",
       "</style>\n",
       "<table border=\"1\" class=\"dataframe\">\n",
       "  <thead>\n",
       "    <tr style=\"text-align: right;\">\n",
       "      <th></th>\n",
       "      <th>PLAYER_ID</th>\n",
       "      <th>TEAM_ID</th>\n",
       "      <th>Salary</th>\n",
       "      <th>MIN</th>\n",
       "      <th>AGE</th>\n",
       "      <th>DRAFT_NUMBER</th>\n",
       "      <th>BMI</th>\n",
       "      <th>BMI</th>\n",
       "      <th>Home?</th>\n",
       "      <th>PTS_LAST_5</th>\n",
       "      <th>...</th>\n",
       "      <th>BLK_LAST_5</th>\n",
       "      <th>TOV_LAST_5</th>\n",
       "      <th>FD PTS_LAST_5</th>\n",
       "      <th>FD PTS_LAST_10</th>\n",
       "      <th>PTS_LAST_10</th>\n",
       "      <th>Position_C</th>\n",
       "      <th>Position_PF</th>\n",
       "      <th>Position_PG</th>\n",
       "      <th>Position_SF</th>\n",
       "      <th>Position_SG</th>\n",
       "    </tr>\n",
       "    <tr>\n",
       "      <th>FD PTS_LAST_10</th>\n",
       "      <th></th>\n",
       "      <th></th>\n",
       "      <th></th>\n",
       "      <th></th>\n",
       "      <th></th>\n",
       "      <th></th>\n",
       "      <th></th>\n",
       "      <th></th>\n",
       "      <th></th>\n",
       "      <th></th>\n",
       "      <th></th>\n",
       "      <th></th>\n",
       "      <th></th>\n",
       "      <th></th>\n",
       "      <th></th>\n",
       "      <th></th>\n",
       "      <th></th>\n",
       "      <th></th>\n",
       "      <th></th>\n",
       "      <th></th>\n",
       "      <th></th>\n",
       "    </tr>\n",
       "  </thead>\n",
       "  <tbody>\n",
       "    <tr>\n",
       "      <th>-2.80</th>\n",
       "      <td>2.564000e+03</td>\n",
       "      <td>1.610613e+09</td>\n",
       "      <td>3500.0</td>\n",
       "      <td>19.0</td>\n",
       "      <td>35.000000</td>\n",
       "      <td>21.0</td>\n",
       "      <td>27.460938</td>\n",
       "      <td>27.460938</td>\n",
       "      <td>0.0</td>\n",
       "      <td>0.000000</td>\n",
       "      <td>...</td>\n",
       "      <td>0.0</td>\n",
       "      <td>4.000000</td>\n",
       "      <td>-2.80</td>\n",
       "      <td>-2.80</td>\n",
       "      <td>0.000000</td>\n",
       "      <td>0.0</td>\n",
       "      <td>1.000000</td>\n",
       "      <td>0.0</td>\n",
       "      <td>0.000000</td>\n",
       "      <td>0.000000</td>\n",
       "    </tr>\n",
       "    <tr>\n",
       "      <th>-1.00</th>\n",
       "      <td>1.629019e+06</td>\n",
       "      <td>1.610613e+09</td>\n",
       "      <td>3600.0</td>\n",
       "      <td>16.0</td>\n",
       "      <td>23.000000</td>\n",
       "      <td>61.0</td>\n",
       "      <td>23.713948</td>\n",
       "      <td>23.713948</td>\n",
       "      <td>1.0</td>\n",
       "      <td>6.600000</td>\n",
       "      <td>...</td>\n",
       "      <td>0.0</td>\n",
       "      <td>1.800000</td>\n",
       "      <td>10.50</td>\n",
       "      <td>-1.00</td>\n",
       "      <td>2.000000</td>\n",
       "      <td>0.0</td>\n",
       "      <td>0.000000</td>\n",
       "      <td>0.0</td>\n",
       "      <td>0.000000</td>\n",
       "      <td>1.000000</td>\n",
       "    </tr>\n",
       "    <tr>\n",
       "      <th>0.00</th>\n",
       "      <td>6.777747e+05</td>\n",
       "      <td>1.610613e+09</td>\n",
       "      <td>3500.0</td>\n",
       "      <td>16.0</td>\n",
       "      <td>27.333333</td>\n",
       "      <td>61.0</td>\n",
       "      <td>24.989340</td>\n",
       "      <td>24.989340</td>\n",
       "      <td>1.0</td>\n",
       "      <td>0.666667</td>\n",
       "      <td>...</td>\n",
       "      <td>0.0</td>\n",
       "      <td>0.666667</td>\n",
       "      <td>0.00</td>\n",
       "      <td>0.00</td>\n",
       "      <td>0.666667</td>\n",
       "      <td>0.0</td>\n",
       "      <td>0.333333</td>\n",
       "      <td>0.0</td>\n",
       "      <td>0.333333</td>\n",
       "      <td>0.333333</td>\n",
       "    </tr>\n",
       "    <tr>\n",
       "      <th>0.20</th>\n",
       "      <td>1.628975e+06</td>\n",
       "      <td>1.610613e+09</td>\n",
       "      <td>3500.0</td>\n",
       "      <td>26.0</td>\n",
       "      <td>23.000000</td>\n",
       "      <td>32.0</td>\n",
       "      <td>25.162162</td>\n",
       "      <td>25.162162</td>\n",
       "      <td>1.0</td>\n",
       "      <td>4.400000</td>\n",
       "      <td>...</td>\n",
       "      <td>0.4</td>\n",
       "      <td>1.000000</td>\n",
       "      <td>11.38</td>\n",
       "      <td>0.20</td>\n",
       "      <td>0.000000</td>\n",
       "      <td>1.0</td>\n",
       "      <td>0.000000</td>\n",
       "      <td>0.0</td>\n",
       "      <td>0.000000</td>\n",
       "      <td>0.000000</td>\n",
       "    </tr>\n",
       "    <tr>\n",
       "      <th>0.20</th>\n",
       "      <td>1.627789e+06</td>\n",
       "      <td>1.610613e+09</td>\n",
       "      <td>3500.0</td>\n",
       "      <td>15.0</td>\n",
       "      <td>22.000000</td>\n",
       "      <td>24.0</td>\n",
       "      <td>23.687541</td>\n",
       "      <td>23.687541</td>\n",
       "      <td>0.0</td>\n",
       "      <td>0.000000</td>\n",
       "      <td>...</td>\n",
       "      <td>0.0</td>\n",
       "      <td>1.000000</td>\n",
       "      <td>0.20</td>\n",
       "      <td>0.20</td>\n",
       "      <td>0.000000</td>\n",
       "      <td>0.0</td>\n",
       "      <td>0.000000</td>\n",
       "      <td>0.0</td>\n",
       "      <td>1.000000</td>\n",
       "      <td>0.000000</td>\n",
       "    </tr>\n",
       "    <tr>\n",
       "      <th>...</th>\n",
       "      <td>...</td>\n",
       "      <td>...</td>\n",
       "      <td>...</td>\n",
       "      <td>...</td>\n",
       "      <td>...</td>\n",
       "      <td>...</td>\n",
       "      <td>...</td>\n",
       "      <td>...</td>\n",
       "      <td>...</td>\n",
       "      <td>...</td>\n",
       "      <td>...</td>\n",
       "      <td>...</td>\n",
       "      <td>...</td>\n",
       "      <td>...</td>\n",
       "      <td>...</td>\n",
       "      <td>...</td>\n",
       "      <td>...</td>\n",
       "      <td>...</td>\n",
       "      <td>...</td>\n",
       "      <td>...</td>\n",
       "      <td>...</td>\n",
       "    </tr>\n",
       "    <tr>\n",
       "      <th>71.92</th>\n",
       "      <td>2.019350e+05</td>\n",
       "      <td>1.610613e+09</td>\n",
       "      <td>13900.0</td>\n",
       "      <td>39.0</td>\n",
       "      <td>29.000000</td>\n",
       "      <td>3.0</td>\n",
       "      <td>26.085343</td>\n",
       "      <td>26.085343</td>\n",
       "      <td>1.0</td>\n",
       "      <td>42.000000</td>\n",
       "      <td>...</td>\n",
       "      <td>1.4</td>\n",
       "      <td>5.000000</td>\n",
       "      <td>66.40</td>\n",
       "      <td>71.92</td>\n",
       "      <td>45.400000</td>\n",
       "      <td>0.0</td>\n",
       "      <td>0.000000</td>\n",
       "      <td>0.0</td>\n",
       "      <td>0.000000</td>\n",
       "      <td>1.000000</td>\n",
       "    </tr>\n",
       "    <tr>\n",
       "      <th>72.90</th>\n",
       "      <td>2.019350e+05</td>\n",
       "      <td>1.610613e+09</td>\n",
       "      <td>11200.0</td>\n",
       "      <td>38.0</td>\n",
       "      <td>27.000000</td>\n",
       "      <td>3.0</td>\n",
       "      <td>26.085343</td>\n",
       "      <td>26.085343</td>\n",
       "      <td>0.0</td>\n",
       "      <td>41.000000</td>\n",
       "      <td>...</td>\n",
       "      <td>0.0</td>\n",
       "      <td>1.000000</td>\n",
       "      <td>72.90</td>\n",
       "      <td>72.90</td>\n",
       "      <td>41.000000</td>\n",
       "      <td>0.0</td>\n",
       "      <td>0.000000</td>\n",
       "      <td>0.0</td>\n",
       "      <td>0.000000</td>\n",
       "      <td>1.000000</td>\n",
       "    </tr>\n",
       "    <tr>\n",
       "      <th>76.90</th>\n",
       "      <td>2.030760e+05</td>\n",
       "      <td>1.610613e+09</td>\n",
       "      <td>10800.0</td>\n",
       "      <td>40.0</td>\n",
       "      <td>24.000000</td>\n",
       "      <td>1.0</td>\n",
       "      <td>25.817826</td>\n",
       "      <td>25.817826</td>\n",
       "      <td>1.0</td>\n",
       "      <td>45.000000</td>\n",
       "      <td>...</td>\n",
       "      <td>2.0</td>\n",
       "      <td>1.000000</td>\n",
       "      <td>76.90</td>\n",
       "      <td>76.90</td>\n",
       "      <td>45.000000</td>\n",
       "      <td>0.0</td>\n",
       "      <td>1.000000</td>\n",
       "      <td>0.0</td>\n",
       "      <td>0.000000</td>\n",
       "      <td>0.000000</td>\n",
       "    </tr>\n",
       "    <tr>\n",
       "      <th>80.60</th>\n",
       "      <td>2.015660e+05</td>\n",
       "      <td>1.610613e+09</td>\n",
       "      <td>12000.0</td>\n",
       "      <td>45.0</td>\n",
       "      <td>28.000000</td>\n",
       "      <td>4.0</td>\n",
       "      <td>24.995556</td>\n",
       "      <td>24.995556</td>\n",
       "      <td>1.0</td>\n",
       "      <td>51.000000</td>\n",
       "      <td>...</td>\n",
       "      <td>0.0</td>\n",
       "      <td>5.000000</td>\n",
       "      <td>80.60</td>\n",
       "      <td>80.60</td>\n",
       "      <td>51.000000</td>\n",
       "      <td>0.0</td>\n",
       "      <td>0.000000</td>\n",
       "      <td>1.0</td>\n",
       "      <td>0.000000</td>\n",
       "      <td>0.000000</td>\n",
       "    </tr>\n",
       "    <tr>\n",
       "      <th>95.70</th>\n",
       "      <td>2.030760e+05</td>\n",
       "      <td>1.610613e+09</td>\n",
       "      <td>10200.0</td>\n",
       "      <td>41.0</td>\n",
       "      <td>24.000000</td>\n",
       "      <td>1.0</td>\n",
       "      <td>25.817826</td>\n",
       "      <td>25.817826</td>\n",
       "      <td>1.0</td>\n",
       "      <td>50.000000</td>\n",
       "      <td>...</td>\n",
       "      <td>4.0</td>\n",
       "      <td>3.000000</td>\n",
       "      <td>95.70</td>\n",
       "      <td>95.70</td>\n",
       "      <td>50.000000</td>\n",
       "      <td>0.0</td>\n",
       "      <td>1.000000</td>\n",
       "      <td>0.0</td>\n",
       "      <td>0.000000</td>\n",
       "      <td>0.000000</td>\n",
       "    </tr>\n",
       "  </tbody>\n",
       "</table>\n",
       "<p>24043 rows × 26 columns</p>\n",
       "</div>"
      ],
      "text/plain": [
       "                   PLAYER_ID       TEAM_ID   Salary   MIN        AGE  \\\n",
       "FD PTS_LAST_10                                                         \n",
       "-2.80           2.564000e+03  1.610613e+09   3500.0  19.0  35.000000   \n",
       "-1.00           1.629019e+06  1.610613e+09   3600.0  16.0  23.000000   \n",
       " 0.00           6.777747e+05  1.610613e+09   3500.0  16.0  27.333333   \n",
       " 0.20           1.628975e+06  1.610613e+09   3500.0  26.0  23.000000   \n",
       " 0.20           1.627789e+06  1.610613e+09   3500.0  15.0  22.000000   \n",
       "...                      ...           ...      ...   ...        ...   \n",
       " 71.92          2.019350e+05  1.610613e+09  13900.0  39.0  29.000000   \n",
       " 72.90          2.019350e+05  1.610613e+09  11200.0  38.0  27.000000   \n",
       " 76.90          2.030760e+05  1.610613e+09  10800.0  40.0  24.000000   \n",
       " 80.60          2.015660e+05  1.610613e+09  12000.0  45.0  28.000000   \n",
       " 95.70          2.030760e+05  1.610613e+09  10200.0  41.0  24.000000   \n",
       "\n",
       "                DRAFT_NUMBER        BMI        BMI  Home?  PTS_LAST_5  ...  \\\n",
       "FD PTS_LAST_10                                                         ...   \n",
       "-2.80                   21.0  27.460938  27.460938    0.0    0.000000  ...   \n",
       "-1.00                   61.0  23.713948  23.713948    1.0    6.600000  ...   \n",
       " 0.00                   61.0  24.989340  24.989340    1.0    0.666667  ...   \n",
       " 0.20                   32.0  25.162162  25.162162    1.0    4.400000  ...   \n",
       " 0.20                   24.0  23.687541  23.687541    0.0    0.000000  ...   \n",
       "...                      ...        ...        ...    ...         ...  ...   \n",
       " 71.92                   3.0  26.085343  26.085343    1.0   42.000000  ...   \n",
       " 72.90                   3.0  26.085343  26.085343    0.0   41.000000  ...   \n",
       " 76.90                   1.0  25.817826  25.817826    1.0   45.000000  ...   \n",
       " 80.60                   4.0  24.995556  24.995556    1.0   51.000000  ...   \n",
       " 95.70                   1.0  25.817826  25.817826    1.0   50.000000  ...   \n",
       "\n",
       "                BLK_LAST_5  TOV_LAST_5  FD PTS_LAST_5  FD PTS_LAST_10  \\\n",
       "FD PTS_LAST_10                                                          \n",
       "-2.80                  0.0    4.000000          -2.80           -2.80   \n",
       "-1.00                  0.0    1.800000          10.50           -1.00   \n",
       " 0.00                  0.0    0.666667           0.00            0.00   \n",
       " 0.20                  0.4    1.000000          11.38            0.20   \n",
       " 0.20                  0.0    1.000000           0.20            0.20   \n",
       "...                    ...         ...            ...             ...   \n",
       " 71.92                 1.4    5.000000          66.40           71.92   \n",
       " 72.90                 0.0    1.000000          72.90           72.90   \n",
       " 76.90                 2.0    1.000000          76.90           76.90   \n",
       " 80.60                 0.0    5.000000          80.60           80.60   \n",
       " 95.70                 4.0    3.000000          95.70           95.70   \n",
       "\n",
       "                PTS_LAST_10  Position_C  Position_PF  Position_PG  \\\n",
       "FD PTS_LAST_10                                                      \n",
       "-2.80              0.000000         0.0     1.000000          0.0   \n",
       "-1.00              2.000000         0.0     0.000000          0.0   \n",
       " 0.00              0.666667         0.0     0.333333          0.0   \n",
       " 0.20              0.000000         1.0     0.000000          0.0   \n",
       " 0.20              0.000000         0.0     0.000000          0.0   \n",
       "...                     ...         ...          ...          ...   \n",
       " 71.92            45.400000         0.0     0.000000          0.0   \n",
       " 72.90            41.000000         0.0     0.000000          0.0   \n",
       " 76.90            45.000000         0.0     1.000000          0.0   \n",
       " 80.60            51.000000         0.0     0.000000          1.0   \n",
       " 95.70            50.000000         0.0     1.000000          0.0   \n",
       "\n",
       "                Position_SF  Position_SG  \n",
       "FD PTS_LAST_10                            \n",
       "-2.80              0.000000     0.000000  \n",
       "-1.00              0.000000     1.000000  \n",
       " 0.00              0.333333     0.333333  \n",
       " 0.20              0.000000     0.000000  \n",
       " 0.20              1.000000     0.000000  \n",
       "...                     ...          ...  \n",
       " 71.92             0.000000     1.000000  \n",
       " 72.90             0.000000     1.000000  \n",
       " 76.90             0.000000     0.000000  \n",
       " 80.60             0.000000     0.000000  \n",
       " 95.70             0.000000     0.000000  \n",
       "\n",
       "[24043 rows x 26 columns]"
      ]
     },
     "execution_count": 92,
     "metadata": {},
     "output_type": "execute_result"
    }
   ],
   "source": [
    "m_default.groupby('FD PTS_LAST_10').apply(np.mean)"
   ]
  },
  {
   "cell_type": "markdown",
   "metadata": {},
   "source": [
    "We wanted to look at how accurate our model is on a given day, in this plot we randomly chose December 12, 2018. \n",
    "The X axis is their average FanDuel points in their last 5 games, and the Y axis is their FanDuel point performance\n",
    "that night. It can be seen that the data is fairly correlated."
   ]
  },
  {
   "cell_type": "code",
   "execution_count": 106,
   "metadata": {},
   "outputs": [
    {
     "data": {
      "image/png": "[encoded data removed]",
      "text/plain": [
       "<Figure size 432x288 with 1 Axes>"
      ]
     },
     "metadata": {
      "needs_background": "light"
     },
     "output_type": "display_data"
    }
   ],
   "source": [
    "\n",
    "\n",
    "bool_arr = master_dataset['Date'] == '2018-12-14'\n",
    "\n",
    "AvgLast5 = sns.regplot(X_test['FD PTS_LAST_5'], y_test)\n",
    "regline = AvgLast5.get_lines()[0]\n",
    "regline.set_color('red')"
   ]
  },
  {
   "cell_type": "markdown",
   "metadata": {},
   "source": [
    "The boxplot below depicts our predicted FanDuel points versus actual FanDuel points earned. Overall, our predictions cover a lower range of points scored between the first and third quartile, with a higher predicted median. This could be due to the highly volatile nature of the NBA and professional sports. With many variables such injuries, personal reasons to missing games, break out (large scoring games), and career high games, it can be very challenging to make a fully accurate prediciton regarding player performance.  "
   ]
  },
  {
   "cell_type": "code",
   "execution_count": 93,
   "metadata": {},
   "outputs": [],
   "source": [
    "Box = pd.DataFrame({'Predicted':pred,'Actual':y_test})"
   ]
  },
  {
   "cell_type": "code",
   "execution_count": 94,
   "metadata": {
    "scrolled": true
   },
   "outputs": [
    {
     "data": {
      "image/png": "[encoded data removed]",
      "text/plain": [
       "<Figure size 432x288 with 1 Axes>"
      ]
     },
     "metadata": {
      "needs_background": "light"
     },
     "output_type": "display_data"
    }
   ],
   "source": [
    "boxplot =Box.boxplot(column=['Predicted','Actual'])"
   ]
  },
  {
   "cell_type": "markdown",
   "metadata": {},
   "source": [
    "### Conclusion\n",
    "\t\n",
    "    Looking at the data that we received from our testing, we are able to be fairly accurately predict on how well a player will perform on a given night if we look at the actual performance of the player. The accuracy is a bit below actual performance on a given night, but we believe that to be fine as sports results may not be 100% predicted as many variables may change how the game will end. For example, a player may get injured during the game and our prediction would be off. Overall, a player that has previously played well will continue to play at a high level unless circumstances prevent it.\n",
    "\n"
   ]
  }
 ],
 "metadata": {
  "kernelspec": {
   "display_name": "Python 3",
   "language": "python",
   "name": "python3"
  },
  "language_info": {
   "codemirror_mode": {
    "name": "ipython",
    "version": 3
   },
   "file_extension": ".py",
   "mimetype": "text/x-python",
   "name": "python",
   "nbconvert_exporter": "python",
   "pygments_lexer": "ipython3",
   "version": "3.7.5"
  }
 },
 "nbformat": 4,
 "nbformat_minor": 2
}
